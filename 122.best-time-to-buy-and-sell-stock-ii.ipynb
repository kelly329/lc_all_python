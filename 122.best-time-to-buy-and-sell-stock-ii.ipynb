{
 "cells": [
  {
   "cell_type": "markdown",
   "metadata": {},
   "source": [
    "### [LeetCode]题解（python）：122-Best Time to Buy and Sell Stock II"
   ]
  },
  {
   "cell_type": "markdown",
   "metadata": {},
   "source": [
    "### 题目来源：\n",
    "https://leetcode.com/problems/best-time-to-buy-and-sell-stock-ii/"
   ]
  },
  {
   "cell_type": "markdown",
   "metadata": {},
   "source": [
    "### 题意分析：\n",
    "动态规划问题，假设有一个数组，它的第i项是第i天的股票价格。如果可以进行多次买卖操作（买一次，卖一次，不可以买两次卖一次，在卖之前必须买过），设计一个算法求出最大的收益。\n"
   ]
  },
  {
   "cell_type": "markdown",
   "metadata": {},
   "source": [
    "### 代码python："
   ]
  },
  {
   "cell_type": "code",
   "execution_count": null,
   "metadata": {},
   "outputs": [],
   "source": [
    "'''\n",
    "思路：可以操作任意次数，这题考察的是数组中所有相邻且递增元素的数值之差的和\n",
    "注意在同一天可以卖出后\n",
    "如：[5, 1, 2, 3, 4]中的1, 2, 3, 4序列来说，对于两种操作方案：\n",
    "1 在1买入，4卖出\n",
    "2 在1买入，2卖出同时买入，3卖出同时买入，4卖出\n",
    "这两种操作下，收益是一样的。\n",
    "所以可以从头到尾扫描prices，如果price[i] – price[i-1]大于零则计入最后的收益中。即贪心法\n",
    "'''\n",
    "class Solution(object):\n",
    "    def maxProfit(self, prices):\n",
    "        \"\"\"\n",
    "        :type prices: List[int]\n",
    "        :rtype: int\n",
    "        \"\"\"\n",
    "        ans = 0\n",
    "        for i in range(1, len(prices)):\n",
    "            if prices[i] > prices[i - 1]:\n",
    "                ans += prices[i] - prices[i - 1]\n",
    "        return ans\n",
    "        "
   ]
  }
 ],
 "metadata": {
  "kernelspec": {
   "display_name": "Python 3",
   "language": "python",
   "name": "python3"
  },
  "language_info": {
   "codemirror_mode": {
    "name": "ipython",
    "version": 3
   },
   "file_extension": ".py",
   "mimetype": "text/x-python",
   "name": "python",
   "nbconvert_exporter": "python",
   "pygments_lexer": "ipython3",
   "version": "3.6.4"
  }
 },
 "nbformat": 4,
 "nbformat_minor": 2
}
