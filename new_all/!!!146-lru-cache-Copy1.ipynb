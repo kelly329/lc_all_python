{
 "cells": [
  {
   "cell_type": "markdown",
   "metadata": {},
   "source": [
    "### [剑指]题解（python）：06-反转数组中的最小值"
   ]
  },
  {
   "cell_type": "markdown",
   "metadata": {},
   "source": [
    "### 题目来源：\n",
    "https://www.nowcoder.com/practice/9f3231a991af4f55b95579b44b7a01ba?tpId=13&tqId=11159&tPage=1&rp=1&ru=/ta/coding-interviews&qru=/ta/coding-interviews/question-ranking"
   ]
  },
  {
   "cell_type": "markdown",
   "metadata": {},
   "source": [
    "### 题意：\n",
    "把一个数组最开始的若干个元素搬到数组的末尾，我们称之为数组的旋转。\n",
    "输入一个非递减排序的数组的一个旋转，输出旋转数组的最小元素。\n",
    "例如数组{3,4,5,1,2}为{1,2,3,4,5}的一个旋转，该数组的最小值为1。\n",
    "NOTE：给出的所有元素都大于0，若数组大小为0，请返回0。"
   ]
  },
  {
   "cell_type": "markdown",
   "metadata": {},
   "source": [
    "### 题解注意\n",
    "1.对于数组长度为0，1的快速处理\n",
    "2.对于旋转后数组递增的特殊处理\n",
    "3.使用二分法，划分为[l, mid],[mid+1, r]对比array[mid]与array[right]，如果array[mid]>array[right],说明mid在前半部分递增，l=mid+1；如果array[mid]<array[right]，说明mid处于旋转数组后半部分，r = mid；如果array[mid]==array[right]，只能left += 1【2，0，1，1，1，1】"
   ]
  },
  {
   "cell_type": "markdown",
   "metadata": {},
   "source": [
    "### 代码python："
   ]
  },
  {
   "cell_type": "code",
   "execution_count": 2,
   "metadata": {},
   "outputs": [
    {
     "data": {
      "text/plain": [
       "0"
      ]
     },
     "execution_count": 2,
     "metadata": {},
     "output_type": "execute_result"
    }
   ],
   "source": [
    "def rotateArray(array):\n",
    "    # not是判断元素是为为空，none判断是否存在\n",
    "    if not array:\n",
    "        return 0\n",
    "    if len(array) == 1:\n",
    "        return array[0]\n",
    "    left, right = 0, len(array) - 1\n",
    "    while left < right:\n",
    "        mid = (right + left) >> 1\n",
    "        if array[mid] < array[right]:\n",
    "            right = mid\n",
    "        elif array[mid] > array[right]:\n",
    "            left = mid + 1\n",
    "        else:\n",
    "            left += 1\n",
    "    return array[left]\n",
    "rotateArray([4,5,0,1,2,3])\n",
    "    "
   ]
  },
  {
   "cell_type": "code",
   "execution_count": null,
   "metadata": {},
   "outputs": [],
   "source": []
  }
 ],
 "metadata": {
  "kernelspec": {
   "display_name": "Python 3",
   "language": "python",
   "name": "python3"
  },
  "language_info": {
   "codemirror_mode": {
    "name": "ipython",
    "version": 3
   },
   "file_extension": ".py",
   "mimetype": "text/x-python",
   "name": "python",
   "nbconvert_exporter": "python",
   "pygments_lexer": "ipython3",
   "version": "3.6.4"
  }
 },
 "nbformat": 4,
 "nbformat_minor": 2
}
