{
 "cells": [
  {
   "cell_type": "markdown",
   "metadata": {},
   "source": [
    "### [LeetCode]题解（python）：009-Palindrome Number"
   ]
  },
  {
   "cell_type": "markdown",
   "metadata": {},
   "source": [
    "### 题目来源：\n",
    "https://leetcode.com/problems/palindrome-number/"
   ]
  },
  {
   "cell_type": "markdown",
   "metadata": {},
   "source": [
    "### 题意分析：\n",
    "判断一个int是否为一个回文数（从前向后，从后向前读结果是一样的），要求不能申请额外的空间"
   ]
  },
  {
   "cell_type": "markdown",
   "metadata": {},
   "source": [
    "### 解题思路：\n",
    "因为不能申请额外的空间，所以不能将int转换为string来处理。"
   ]
  },
  {
   "cell_type": "markdown",
   "metadata": {},
   "source": [
    "### 代码python："
   ]
  },
  {
   "cell_type": "code",
   "execution_count": 1,
   "metadata": {},
   "outputs": [],
   "source": [
    "'''\n",
    "normal way\n",
    "循环通过对10取模得到尾部数字，一步步乘10构造新的反转后的整数即可。\n",
    "'''\n",
    "class Solution(object):\n",
    "    def isPalindrome(self, x):\n",
    "        \"\"\"\n",
    "        :type x: int\n",
    "        :rtype: bool\n",
    "        \"\"\"\n",
    "        '''\n",
    "        1.对于x < 0不符合要求的判断，使用if条件可以，while x: 就好\n",
    "        2.也可以直接使用while x > 0\n",
    "        '''\n",
    "        # if x < 0:\n",
    "        #     return False\n",
    "        z, new_x = x, 0\n",
    "        while x > 0:\n",
    "            new_x = new_x * 10 + x % 10\n",
    "            x /= 10\n",
    "        return z == new_x"
   ]
  },
  {
   "cell_type": "code",
   "execution_count": null,
   "metadata": {},
   "outputs": [],
   "source": [
    "'''\n",
    "faster way\n",
    "'''\n",
    "class Solution(object):\n",
    "    def reverse(self, x):\n",
    "        \"\"\"\n",
    "        :type x: int\n",
    "        :rtype: int\n",
    "        \"\"\"\n",
    "        if x < 0 or (x != 0 and x % 10 == 0) :\n",
    "            return False # python False必须大写开头\n",
    "        half = 0\n",
    "        while x > half:\n",
    "            half = half * 10 + x % 10\n",
    "            x /= 10\n",
    "        return x == half or half / 10 == x \n",
    "            "
   ]
  },
  {
   "cell_type": "markdown",
   "metadata": {},
   "source": [
    "### 知识学习总结"
   ]
  },
  {
   "cell_type": "markdown",
   "metadata": {},
   "source": [
    "python if 条件 http://www.runoob.com/python/python-if-statement.html\n",
    "python return or and http://www.mamicode.com/info-detail-1765166.html"
   ]
  },
  {
   "cell_type": "markdown",
   "metadata": {},
   "source": [
    "and:遇假则假，所以前面为假就不执行和判断后面，前面为真则继续判断执行后面的;\n",
    "or:遇真则真，所以前面为真就不执行和判断后面，前面为假则继续判断执行后面的。"
   ]
  }
 ],
 "metadata": {
  "kernelspec": {
   "display_name": "Python 3",
   "language": "python",
   "name": "python3"
  },
  "language_info": {
   "codemirror_mode": {
    "name": "ipython",
    "version": 3
   },
   "file_extension": ".py",
   "mimetype": "text/x-python",
   "name": "python",
   "nbconvert_exporter": "python",
   "pygments_lexer": "ipython3",
   "version": "3.6.4"
  }
 },
 "nbformat": 4,
 "nbformat_minor": 2
}
