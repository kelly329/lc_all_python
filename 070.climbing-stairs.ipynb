{
 "cells": [
  {
   "cell_type": "markdown",
   "metadata": {},
   "source": [
    "### [LeetCode]题解（python）：070-Climbing Stairs"
   ]
  },
  {
   "cell_type": "markdown",
   "metadata": {},
   "source": [
    "### 题目来源：\n",
    "https://leetcode.com/problems/climbing-stairs/"
   ]
  },
  {
   "cell_type": "markdown",
   "metadata": {},
   "source": [
    "### 题意分析：\n",
    "爬楼梯，爬到顶要n阶，每次可以爬1或2个阶梯，有多少种不同的方法爬到顶？"
   ]
  },
  {
   "cell_type": "markdown",
   "metadata": {},
   "source": [
    "### 代码python："
   ]
  },
  {
   "cell_type": "code",
   "execution_count": null,
   "metadata": {},
   "outputs": [],
   "source": [
    "'''\n",
    "思路一：动态规划问题。当有n个台阶时，可以选择的走法分为2类，1.先跨一阶再跨完剩余的n-1阶；\n",
    "2.先跨2阶再跨剩余的n-2阶。所以n阶的不同走法的数目为n-1阶和n-2阶走法的和。\n",
    "如果题目用递归，复杂度会太大而无法ac,使用动态规划记录历史数据，即可。\n",
    "'''\n",
    "class Solution(object):\n",
    "    def climbStairs(self, n):\n",
    "        \"\"\"\n",
    "        :type n: int\n",
    "        :rtype: int\n",
    "        \"\"\"\n",
    "        if n == 0 or n == 1 or n == 2:\n",
    "            return n\n",
    "        steps = [1, 1]\n",
    "        for i in range(2, n+1):\n",
    "            steps.append(steps[i-1] + steps[i-2])\n",
    "        return steps[n]\n",
    "                          "
   ]
  },
  {
   "cell_type": "code",
   "execution_count": null,
   "metadata": {},
   "outputs": [],
   "source": [
    "'''\n",
    "思路二：当输入为1, 2, 3, 4, 5, 6, 7, 8, 9, 10时，观察输出为1, 2, 3, 5, 8, 13, 21, 34, 55, 89，是斐波那契数列！\n",
    "此办法比思路一慢很多\n",
    "'''\n",
    "class Solution(object):\n",
    "    def climbStairs(self, n):\n",
    "        \"\"\"\n",
    "        :type n: int\n",
    "        :rtype: int\n",
    "        \"\"\"\n",
    "        pre = cur = 1\n",
    "        for i in xrange(1, n):\n",
    "            pre, cur = cur, cur + pre\n",
    "        return cur"
   ]
  }
 ],
 "metadata": {
  "kernelspec": {
   "display_name": "Python 3",
   "language": "python",
   "name": "python3"
  },
  "language_info": {
   "codemirror_mode": {
    "name": "ipython",
    "version": 3
   },
   "file_extension": ".py",
   "mimetype": "text/x-python",
   "name": "python",
   "nbconvert_exporter": "python",
   "pygments_lexer": "ipython3",
   "version": "3.6.4"
  }
 },
 "nbformat": 4,
 "nbformat_minor": 2
}
