{
 "cells": [
  {
   "cell_type": "markdown",
   "metadata": {},
   "source": [
    "### [LeetCode]题解（Python）：292-Nim Game"
   ]
  },
  {
   "cell_type": "markdown",
   "metadata": {},
   "source": [
    "### 题目来源：\n",
    "https://leetcode.com/problems/nim-game/"
   ]
  },
  {
   "cell_type": "markdown",
   "metadata": {},
   "source": [
    "### 题意分析：\n",
    "玩一个游戏，游戏规则，有一堆石头，每次只能拿1-3个石头，两个人轮流拿石头，最后把石头拿完的为胜利者。"
   ]
  },
  {
   "cell_type": "markdown",
   "metadata": {},
   "source": [
    "### 思路学习：\n",
    "这道题算一个数学问题，可以找到规律。我们先写一些数据（左边石头个数，右边是否能赢）： \n",
    "1，Y \n",
    "2，Y \n",
    "3，Y \n",
    "4，N \n",
    "5，Y \n",
    "6，Y \n",
    "7，Y \n",
    "8，N \n",
    "9，Y \n",
    "…… \n",
    "当石头数是5、6、7时，可以分别拿走1、2、3个石头，使局面变成剩4个石头，那么对手一定输；当石头数是8时，无论自己拿走几个石头，对方面临的局面一定是剩下5或6或7个石头，从而对方一定赢。 \n",
    "以此类推，我们发现，当石头个数为4的倍数时总是输，否则总是赢。 \n",
    "最终，该问题可以转化为，判断石头数是否能整除4。"
   ]
  },
  {
   "cell_type": "markdown",
   "metadata": {},
   "source": [
    "### 代码Python："
   ]
  },
  {
   "cell_type": "code",
   "execution_count": null,
   "metadata": {},
   "outputs": [],
   "source": [
    "'''\n",
    "思路：用取模运算。\n",
    "'''\n",
    "class Solution(object):\n",
    "    def canWinNim(self, n):\n",
    "        \"\"\"\n",
    "        :type n: int\n",
    "        :rtype: bool\n",
    "        \"\"\"\n",
    "        return n%4 != 0 "
   ]
  },
  {
   "cell_type": "code",
   "execution_count": null,
   "metadata": {},
   "outputs": [],
   "source": [
    "'''\n",
    "思路：bit位检查。\n",
    "&是二进制“与”运算，参加运算的两个数的二进制按位进行运算，运算的规律是：\n",
    "0 & 0=0\n",
    "0 & 1=0\n",
    "1 & 0=0\n",
    "1 & 1=1\n",
    "3:11\n",
    "4的倍数极为2的二进制前两位为0:100，1100，1000，。。。。\n",
    "'''\n",
    "class Solution(object):\n",
    "    def canWinNim(self, n):\n",
    "        \"\"\"\n",
    "        :type n: int\n",
    "        :rtype: bool\n",
    "        \"\"\"\n",
    "        return n&3 != 0"
   ]
  }
 ],
 "metadata": {
  "kernelspec": {
   "display_name": "Python 3",
   "language": "python",
   "name": "python3"
  },
  "language_info": {
   "codemirror_mode": {
    "name": "ipython",
    "version": 3
   },
   "file_extension": ".py",
   "mimetype": "text/x-python",
   "name": "python",
   "nbconvert_exporter": "python",
   "pygments_lexer": "ipython3",
   "version": "3.6.4"
  }
 },
 "nbformat": 4,
 "nbformat_minor": 2
}
