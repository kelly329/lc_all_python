{
 "cells": [
  {
   "cell_type": "markdown",
   "metadata": {},
   "source": [
    "### [LeetCode]题解（python）：026-Remove Element"
   ]
  },
  {
   "cell_type": "markdown",
   "metadata": {},
   "source": [
    "### 题目来源：\n",
    "https://leetcode.com/problems/remove-element/"
   ]
  },
  {
   "cell_type": "markdown",
   "metadata": {},
   "source": [
    "### 题意分析：\n",
    "给定一个数组和一个数值val，将数组中等于val的数去除。不能申请额外空间，超过新数组的长度的部分忽略。"
   ]
  },
  {
   "cell_type": "markdown",
   "metadata": {},
   "source": [
    "### 代码python："
   ]
  },
  {
   "cell_type": "code",
   "execution_count": null,
   "metadata": {},
   "outputs": [],
   "source": [
    "'''\n",
    "思路一：使用两个指针，一个指针用于遍历扫描整个数组，另一个指针始终指向下一个数字要写入列表的前一个位置。\n",
    "此题中，遍历数组的指针要从数组开头遍历，slow要在i的前面或者相同位置，不能在之前，所以使用slow=-1,\n",
    "以及slow=-1时，即使数组长度为0也无需做特殊判断，直接返回slow+1即0即可。\n",
    "'''\n",
    "class Solution(object):\n",
    "    def removeElement(self, nums, val):\n",
    "        \"\"\"\n",
    "        :type nums: List[int]\n",
    "        :type val: int\n",
    "        :rtype: int\n",
    "        \"\"\"\n",
    "        slow = -1\n",
    "        for i in xrange(0, len(nums)):\n",
    "            if nums[i] != val:\n",
    "                slow += 1\n",
    "                nums[slow] = nums[i]\n",
    "        return slow + 1"
   ]
  }
 ],
 "metadata": {
  "kernelspec": {
   "display_name": "Python 3",
   "language": "python",
   "name": "python3"
  },
  "language_info": {
   "codemirror_mode": {
    "name": "ipython",
    "version": 3
   },
   "file_extension": ".py",
   "mimetype": "text/x-python",
   "name": "python",
   "nbconvert_exporter": "python",
   "pygments_lexer": "ipython3",
   "version": "3.6.4"
  }
 },
 "nbformat": 4,
 "nbformat_minor": 2
}
