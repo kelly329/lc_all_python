{
 "cells": [
  {
   "cell_type": "markdown",
   "metadata": {},
   "source": [
    "### [LeetCode]题解（python）：007-Reverse Integer"
   ]
  },
  {
   "cell_type": "markdown",
   "metadata": {},
   "source": [
    "### 题目来源：\n",
    "https://leetcode.com/problems/reverse-integer/"
   ]
  },
  {
   "cell_type": "markdown",
   "metadata": {},
   "source": [
    "### 题意分析：\n",
    "这道题目是输入一个数组和target，要在数组中找两个数，其和为target，返回这两个数在数据中索引值，题目中假设有且仅有一个答案"
   ]
  },
  {
   "cell_type": "markdown",
   "metadata": {},
   "source": [
    "### 解题思路：\n",
    "python处理整数不会主动溢出实际上会给解题带来麻烦，需要特殊处理。"
   ]
  },
  {
   "cell_type": "markdown",
   "metadata": {},
   "source": [
    "### 代码python："
   ]
  },
  {
   "cell_type": "code",
   "execution_count": 1,
   "metadata": {},
   "outputs": [],
   "source": [
    "'''\n",
    "思路一：\n",
    "利用python的字符串反转操作来实现对整数的反转，反转后的字符串要重新转换为整数，同时注意正负和溢出情况。\n",
    "'''\n",
    "class Solution(object):\n",
    "    def reverse(self, x):\n",
    "        \"\"\"\n",
    "        :type x: int\n",
    "        :rtype: int\n",
    "        \"\"\"\n",
    "        x = int(str(x)[::-1]) if x >= 0 else - int(str(-x)[::-1])\n",
    "        return x if x < 2147483648 and x >= -2147483648 else 0"
   ]
  },
  {
   "cell_type": "code",
   "execution_count": null,
   "metadata": {},
   "outputs": [],
   "source": [
    "'''\n",
    "思路二：\n",
    "循环通过对10取模得到尾部数字，一步步乘10构造新的反转后的整数即可。首先要判断原数字正负，以及判断最后结果是否溢出\n",
    "\n",
    "'''\n",
    "class Solution(object):\n",
    "    def reverse(self, x):\n",
    "        \"\"\"\n",
    "        :type x: int\n",
    "        :rtype: int\n",
    "        \"\"\"\n",
    "        flag = 1 if >=0 else -1\n",
    "        new_x, x = 0, abs(x)\n",
    "        while x:\n",
    "            new_x = new_x * 10 + x % 10\n",
    "            x /= 10\n",
    "        new_x = flag * new_x\n",
    "        return new_x if new_x < 2147483648 and new_x >= -2147483648 else 0"
   ]
  },
  {
   "cell_type": "markdown",
   "metadata": {},
   "source": [
    "### 知识学习总结"
   ]
  },
  {
   "cell_type": "code",
   "execution_count": null,
   "metadata": {},
   "outputs": [],
   "source": [
    "python中的[::-1] https://www.cnblogs.com/mxh1099/p/5804064.html"
   ]
  },
  {
   "cell_type": "code",
   "execution_count": null,
   "metadata": {},
   "outputs": [],
   "source": [
    "a = [0,1,2,3,4,5,6,7,8,9]\n",
    "b = a[i:j] 表示复制a[i]到a[j-1],生成心的list\n",
    "例如：b = a[2:8] 即 b = [2,3,4,5,6,7]\n",
    "a[:3]相当于 a[0:3] x的缺省值为0\n",
    "a[2:]相当于 a[2:len(a)] y的缺省值为len(lsit)\n",
    "\n",
    "b = a[i:j:s] i,j 与上面一样，s表示步长缺省值为1\n",
    "a[i:j:1] 相当于 a[i:j]\n",
    "当s < 0时，i缺省时，默认为-1，j缺省时，默认为-len(a)-1\n",
    "所以a[::-1]相当于a[-1:-len(a)-1:-1], 即行最后一个元素到第一个元素复制一遍"
   ]
  }
 ],
 "metadata": {
  "kernelspec": {
   "display_name": "Python 3",
   "language": "python",
   "name": "python3"
  },
  "language_info": {
   "codemirror_mode": {
    "name": "ipython",
    "version": 3
   },
   "file_extension": ".py",
   "mimetype": "text/x-python",
   "name": "python",
   "nbconvert_exporter": "python",
   "pygments_lexer": "ipython3",
   "version": "3.6.4"
  }
 },
 "nbformat": 4,
 "nbformat_minor": 2
}
