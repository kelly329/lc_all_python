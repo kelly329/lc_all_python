{
 "cells": [
  {
   "cell_type": "markdown",
   "metadata": {},
   "source": [
    "### [LeetCode]题解（Python）：190- Reverse Bits"
   ]
  },
  {
   "cell_type": "markdown",
   "metadata": {},
   "source": [
    "### 题目来源：\n",
    "https://leetcode.com/problems/reverse-bits/"
   ]
  },
  {
   "cell_type": "markdown",
   "metadata": {},
   "source": [
    "### 题意分析：\n",
    "给定一个32无符号整型，返回反转二进制之后的整型值\n",
    "Input: 43261596\n",
    "Output: 964176192\n",
    "Explanation: 43261596 represented in binary as 00000010100101000001111010011100, \n",
    "             return 964176192 represented in binary as 00111001011110000010100101000000."
   ]
  },
  {
   "cell_type": "markdown",
   "metadata": {},
   "source": [
    "### 代码Python："
   ]
  },
  {
   "cell_type": "code",
   "execution_count": 1,
   "metadata": {},
   "outputs": [],
   "source": [
    "class Solution:\n",
    "    # @param n, an integer\n",
    "    # @return an integer\n",
    "    def reverseBits(self, n):\n",
    "        ans = 0\n",
    "        mask = 1\n",
    "        for _ in range(32):\n",
    "            ans <<= 1\n",
    "            if mask & n:\n",
    "                ans |= 1\n",
    "            n >>= 1\n",
    "        return ans\n",
    "#如果最后"
   ]
  },
  {
   "cell_type": "code",
   "execution_count": 4,
   "metadata": {},
   "outputs": [
    {
     "name": "stdout",
     "output_type": "stream",
     "text": [
      "0\n"
     ]
    }
   ],
   "source": [
    "res = 0\n",
    "res <<= 3\n",
    "print(res)"
   ]
  },
  {
   "cell_type": "code",
   "execution_count": 5,
   "metadata": {},
   "outputs": [
    {
     "name": "stdout",
     "output_type": "stream",
     "text": [
      "0\n"
     ]
    }
   ],
   "source": [
    "a = 8\n",
    "b = 1\n",
    "print(a & b)\n"
   ]
  },
  {
   "cell_type": "code",
   "execution_count": 6,
   "metadata": {},
   "outputs": [
    {
     "name": "stdout",
     "output_type": "stream",
     "text": [
      "1\n"
     ]
    }
   ],
   "source": [
    "# 进行或与运算时，运算符两边转换为二进制进行或，与运算\n",
    "a = 3\n",
    "b = 1\n",
    "print(a & b)"
   ]
  },
  {
   "cell_type": "code",
   "execution_count": 2,
   "metadata": {},
   "outputs": [
    {
     "name": "stdout",
     "output_type": "stream",
     "text": [
      "0\n"
     ]
    }
   ],
   "source": [
    "print(0&0)"
   ]
  },
  {
   "cell_type": "code",
   "execution_count": 3,
   "metadata": {},
   "outputs": [
    {
     "name": "stdout",
     "output_type": "stream",
     "text": [
      "0\n"
     ]
    }
   ],
   "source": [
    "a = 10\n",
    "b = 1\n",
    "print(a&b)"
   ]
  },
  {
   "cell_type": "markdown",
   "metadata": {},
   "source": [
    "### 知识点学习"
   ]
  },
  {
   "cell_type": "code",
   "execution_count": null,
   "metadata": {},
   "outputs": [],
   "source": [
    "a>>=2等价于a=a>>2（右移3位）\n",
    "a<<=2等价于a=a<<2（左移3位）\n",
    "\n",
    "a|=2等价于a=a|2(按位或)\n",
    "\n",
    "\n",
    "2<<2=8，也就是把2往左移动2位\n",
    "把2转换成2进制，就是0000 0010\n",
    "左移两位就变成0000 1000，也就是10进制的8"
   ]
  },
  {
   "cell_type": "markdown",
   "metadata": {},
   "source": [
    "### 按位或运算规则\n",
    "1|1=1\n",
    "1|0=1\n",
    "0|1=1\n",
    "0|0=0\n",
    "### 按位与运算规则\n",
    "1&1=1\n",
    "1&0=0\n",
    "0&1=0\n",
    "0&0=0\n",
    "###### 进行左移或者右移计算时，返回的结果为移动位置之后真实的十进制值"
   ]
  }
 ],
 "metadata": {
  "kernelspec": {
   "display_name": "Python 3",
   "language": "python",
   "name": "python3"
  },
  "language_info": {
   "codemirror_mode": {
    "name": "ipython",
    "version": 3
   },
   "file_extension": ".py",
   "mimetype": "text/x-python",
   "name": "python",
   "nbconvert_exporter": "python",
   "pygments_lexer": "ipython3",
   "version": "3.6.4"
  }
 },
 "nbformat": 4,
 "nbformat_minor": 2
}
