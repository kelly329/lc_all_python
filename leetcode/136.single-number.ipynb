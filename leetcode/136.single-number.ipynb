{
 "cells": [
  {
   "cell_type": "markdown",
   "metadata": {},
   "source": [
    "### [LeetCode]题解（python）：136-Single Number"
   ]
  },
  {
   "cell_type": "markdown",
   "metadata": {},
   "source": [
    "### 题目来源：\n",
    "https://leetcode.com/problems/single-number/"
   ]
  },
  {
   "cell_type": "markdown",
   "metadata": {},
   "source": [
    "### 题意分析：\n",
    "整型数组中，每个元素均出现两次，除了一个元素例外，找出这个元素，设计一个线性的时间的算法，不需要额外的空间"
   ]
  },
  {
   "cell_type": "markdown",
   "metadata": {},
   "source": [
    "### 代码python："
   ]
  },
  {
   "cell_type": "code",
   "execution_count": null,
   "metadata": {},
   "outputs": [],
   "source": [
    "'''\n",
    "思路一：先对元素进行排序，然后对比两个相邻的元素，循环间隔为2，与前一元素对比，如果不同，则返回前一元素。\n",
    "'''\n",
    "class Solution(object):\n",
    "    def singleNumber(self, nums):\n",
    "        \"\"\"\n",
    "        :type nums: List[int]\n",
    "        :rtype: int\n",
    "        \"\"\"\n",
    "        nums.Sort()\n",
    "        for i in range(1, len(nums),2):\n",
    "            if nums[i] != nums[i - 1]: #与前一个对比 如果找到即返回即可\n",
    "                return nums[i - 1]\n",
    "        # 要找的元素是最后一个元素\n",
    "        return nums[-1]\n",
    "        "
   ]
  },
  {
   "cell_type": "code",
   "execution_count": null,
   "metadata": {},
   "outputs": [],
   "source": [
    "'''\n",
    "思路二：O(n)的算法 利用XOR运算\n",
    "'''\n",
    "class Solution(object):\n",
    "    def singleNumber(self, nums):\n",
    "        \"\"\"\n",
    "        :type nums: List[int]\n",
    "        :rtype: int\n",
    "        \"\"\"\n",
    "        for i in xrange(1, len(nums)):\n",
    "            nums[0] ^= nums[i]\n",
    "        return nums[0]"
   ]
  },
  {
   "cell_type": "markdown",
   "metadata": {},
   "source": [
    "#### XOR运算\n",
    "参与运算的两个值,如果两个相应bit位相同,则结果为0,否则为1\n",
    "A XOR A = 0，且XOR运算是可交换的，于是，对于实例{2,1,4,5,2,4,1}就会有这样的结果：\n",
    "(2^1^4^5^2^4^1) => ((2^2)^(1^1)^(4^4)^(5)) => (0^0^0^5) => 5 这样就可以把只出现一次的元素找出来 不需要额外的空间"
   ]
  }
 ],
 "metadata": {
  "kernelspec": {
   "display_name": "Python 3",
   "language": "python",
   "name": "python3"
  },
  "language_info": {
   "codemirror_mode": {
    "name": "ipython",
    "version": 3
   },
   "file_extension": ".py",
   "mimetype": "text/x-python",
   "name": "python",
   "nbconvert_exporter": "python",
   "pygments_lexer": "ipython3",
   "version": "3.6.4"
  }
 },
 "nbformat": 4,
 "nbformat_minor": 2
}
