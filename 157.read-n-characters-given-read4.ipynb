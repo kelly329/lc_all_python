{
 "cells": [
  {
   "cell_type": "markdown",
   "metadata": {},
   "source": [
    "### [LeetCode]题解（python）：157-Read N Characters Given Read4"
   ]
  },
  {
   "cell_type": "markdown",
   "metadata": {},
   "source": [
    "### 题目来源：\n",
    "https://leetcode.com/problems/read-n-characters-given-read4/"
   ]
  },
  {
   "cell_type": "markdown",
   "metadata": {},
   "source": [
    "### 题意分析：\n",
    "###### The API: int read4(char *buf) reads 4 characters at a time from a file. \n",
    "###### The return value is the actual number of characters read. For example, it returns 3 if there is only 3 characters left in the file.\n",
    "###### By using the read4 API, implement the function int read(char *buf, int n) that reads n characters from the file.\n",
    "###### Note:\n",
    "###### The read function will only be called once for each test case."
   ]
  },
  {
   "cell_type": "markdown",
   "metadata": {},
   "source": [
    "### 代码python："
   ]
  },
  {
   "cell_type": "code",
   "execution_count": 1,
   "metadata": {},
   "outputs": [],
   "source": [
    "'''\n",
    "思路：\n",
    "read4(buf)是读取4个字节存储到buf中，然后返回成功的个数，如果不够4个，返回剩余的数目的字符（比如：只有3个，就会返回3个）\n",
    "read(self, buf, n) 意思也是读取n个字符存储到buf中\n",
    "\n",
    "用一个临时数组，存放每次read4读到字符，再用一个指针标记buf数组目前存储到的位置，然后将这个临时数组的内容存到buf相应的位置就行了。\n",
    "这里需要注意两个corner case：\n",
    "\n",
    "1. 如果本次读到多个字符，但是我们只需要其中一部分就能完成读取任务时，我们要拷贝的长度是本次读到的个数和剩余所需个数中较小的\n",
    "\n",
    "2. 如果read4没有读满4个，说明数据已经读完，这时候对于读到的数据长度，因为也可能存在我们只需要其中一部分的情况，\n",
    "所以要返回总所需长度和目前已经读到的长度的较小的\n",
    "\n",
    "'''\n",
    "# The read4 API is already defined for you.\n",
    "# @param buf, a list of characters\n",
    "# @return an integer\n",
    "# def read4(buf):\n",
    "\n",
    "class Solution(object):\n",
    "    def read(self, buf, n):\n",
    "        \"\"\"\n",
    "        :type buf: Destination buffer (List[str])\n",
    "        :type n: Maximum number of characters to read (int)\n",
    "        :rtype: The number of characters read (int)\n",
    "        \"\"\"\n",
    "        count = 0\n",
    "        temp = [\"\"] * 4\n",
    "        while count < n:\n",
    "            re = read4(temp)\n",
    "            if re == 0:\n",
    "                break\n",
    "            for i in range(min(re, n - re)):\n",
    "                buf[count] = temp[i]\n",
    "                count += 0\n",
    "        return count\n",
    "        \n",
    "       "
   ]
  }
 ],
 "metadata": {
  "kernelspec": {
   "display_name": "Python 3",
   "language": "python",
   "name": "python3"
  },
  "language_info": {
   "codemirror_mode": {
    "name": "ipython",
    "version": 3
   },
   "file_extension": ".py",
   "mimetype": "text/x-python",
   "name": "python",
   "nbconvert_exporter": "python",
   "pygments_lexer": "ipython3",
   "version": "3.6.4"
  }
 },
 "nbformat": 4,
 "nbformat_minor": 2
}
