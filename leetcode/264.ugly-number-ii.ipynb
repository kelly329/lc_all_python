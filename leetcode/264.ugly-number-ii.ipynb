{
 "cells": [
  {
   "cell_type": "markdown",
   "metadata": {},
   "source": [
    "### [LeetCode]题解（Python）：264-Ugly Number II"
   ]
  },
  {
   "cell_type": "markdown",
   "metadata": {},
   "source": [
    "### 题目来源：\n",
    "https://leetcode.com/problems/ugly-number-ii/"
   ]
  },
  {
   "cell_type": "markdown",
   "metadata": {},
   "source": [
    "### 题意分析：\n",
    "寻找第n个ugly number\n",
    "- 丑陋数必须由一个较小的丑陋数乘以2，3或者5得到\n",
    "- 解决问题的关键是维护丑陋数的顺序。尝试一个类似合并3个有序列表L1,L2,L3的方法。\n",
    "- 假设当前计算出第k个丑陋数Uk，则Uk+1 一定是min(L1*2,L2*3,L3*5)"
   ]
  },
  {
   "cell_type": "markdown",
   "metadata": {},
   "source": [
    "### 解题思路\n",
    "###### 丑陋数序列可以拆分为下面的3个子列表：\n",
    "- (1) 1×2, 2×2, 3×2, 4×2, 5×2, …\n",
    "- (2) 1×3, 2×3, 3×3, 4×3, 5×3, …\n",
    "- (3) 1×5, 2×5, 3×5, 4×5, 5×5, …\n",
    "\n",
    "###### 可以发现每一个子列表都是丑陋数本身(1, 2, 3, 4, 5, …) 乘以 2, 3, 5\n",
    "###### 接下来使用与归并排序相似的合并方法，从3个子列表中获取丑陋数。每一步我们从中选出最小的一个，然后向后移动一步。"
   ]
  },
  {
   "cell_type": "markdown",
   "metadata": {},
   "source": [
    "### 代码Python："
   ]
  },
  {
   "cell_type": "code",
   "execution_count": null,
   "metadata": {},
   "outputs": [],
   "source": [
    "class Solution(object):\n",
    "    def nthUglyNumber(self, n):\n",
    "        \"\"\"\n",
    "        :type n: int\n",
    "        :rtype: int\n",
    "        \"\"\"\n",
    "        q = [1]\n",
    "        i2 = i3 = i5 = 0\n",
    "        while len(q) < n:\n",
    "            m2, m3, m5 = q[i2] * 2, q[i3] * 3, q[i5] * 5\n",
    "            m = min(m2, m3, m5)\n",
    "            if m == m2:\n",
    "                i2 += 1\n",
    "            if m == m3:\n",
    "                i3 += 1\n",
    "            if m == m5:\n",
    "                i5 += 1\n",
    "            q += m,\n",
    "        return q[-1]"
   ]
  }
 ],
 "metadata": {
  "kernelspec": {
   "display_name": "Python 3",
   "language": "python",
   "name": "python3"
  },
  "language_info": {
   "codemirror_mode": {
    "name": "ipython",
    "version": 3
   },
   "file_extension": ".py",
   "mimetype": "text/x-python",
   "name": "python",
   "nbconvert_exporter": "python",
   "pygments_lexer": "ipython3",
   "version": "3.6.4"
  }
 },
 "nbformat": 4,
 "nbformat_minor": 2
}
