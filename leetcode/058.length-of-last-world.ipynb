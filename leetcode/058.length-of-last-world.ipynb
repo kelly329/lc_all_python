{
 "cells": [
  {
   "cell_type": "markdown",
   "metadata": {},
   "source": [
    "### [LeetCode]题解（python）：058-Length of Last Word"
   ]
  },
  {
   "cell_type": "markdown",
   "metadata": {},
   "source": [
    "### 题目来源：\n",
    "https://leetcode.com/problems/length-of-last-world/"
   ]
  },
  {
   "cell_type": "markdown",
   "metadata": {},
   "source": [
    "### 题意分析：\n",
    "求字符串中最后一个单词的长度"
   ]
  },
  {
   "cell_type": "markdown",
   "metadata": {},
   "source": [
    "### 代码python："
   ]
  },
  {
   "cell_type": "code",
   "execution_count": null,
   "metadata": {},
   "outputs": [],
   "source": [
    "'''\n",
    "思路一：使用python的内置函数rstrip()去除字符串末尾的空格，再使用split()分割字符串，最后返回数组的最后一个元素的长度\n",
    "return len(s.rstrip().split(' ')[-1])\n",
    "'''\n",
    "class Solution(object):\n",
    "    def lengthOfLastWord(self, s):\n",
    "        \"\"\"\n",
    "        :type s: str\n",
    "        :rtype: int\n",
    "        \"\"\"\n",
    "        if len(s) == 0:\n",
    "            return 0 \n",
    "        s = s.split()\n",
    "        if len(s) > 0:\n",
    "            return len(s[-1])\n",
    "        return 0\n",
    "        \n",
    " "
   ]
  },
  {
   "cell_type": "code",
   "execution_count": 3,
   "metadata": {},
   "outputs": [
    {
     "name": "stdout",
     "output_type": "stream",
     "text": [
      "['hello']\n",
      "1\n"
     ]
    }
   ],
   "source": [
    "s = \"hello\"\n",
    "s = s.split()\n",
    "print(s)\n",
    "print(len(s))"
   ]
  },
  {
   "cell_type": "code",
   "execution_count": null,
   "metadata": {},
   "outputs": [],
   "source": [
    "'''\n",
    "思路二：不使用python的内置函数，从最后不是空格的地方开始遍历字符串，遍历到空格即停止\n",
    "'''\n",
    "class Solution(object):\n",
    "    def lengthOfLastWord(self, s):\n",
    "        \"\"\"\n",
    "        :type s: str\n",
    "        :rtype: int\n",
    "        \"\"\"\n",
    "        j, lenght = len(s) - 1, 0\n",
    "        while j > 0:\n",
    "            if s[j] != ' ':\n",
    "                break\n",
    "            j -= 1\n",
    "        for i xrange(j, -1, -1):\n",
    "            if s[i] == ' ':\n",
    "                return length\n",
    "            length += length\n",
    "        return length     "
   ]
  },
  {
   "cell_type": "markdown",
   "metadata": {},
   "source": [
    "### 知识点\n",
    "1. rstrip():Python rstrip() 删除 string 字符串末尾的指定字符（默认为空格）\n",
    "2. split() 通过指定分隔符对字符串进行切片，如果参数 num 有指定值，则仅分隔 num 个子字符串,str.split(str=\"\", num=string.count(str)).\n",
    "str -- 分隔符，默认为所有的空字符，包括空格、换行(\\n)、制表符(\\t)等。\n",
    "num -- 分割次数。"
   ]
  }
 ],
 "metadata": {
  "kernelspec": {
   "display_name": "Python 3",
   "language": "python",
   "name": "python3"
  },
  "language_info": {
   "codemirror_mode": {
    "name": "ipython",
    "version": 3
   },
   "file_extension": ".py",
   "mimetype": "text/x-python",
   "name": "python",
   "nbconvert_exporter": "python",
   "pygments_lexer": "ipython3",
   "version": "3.6.4"
  }
 },
 "nbformat": 4,
 "nbformat_minor": 2
}
