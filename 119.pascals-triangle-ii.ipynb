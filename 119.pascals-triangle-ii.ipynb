{
 "cells": [
  {
   "cell_type": "markdown",
   "metadata": {},
   "source": [
    "### [LeetCode]题解（python）：119-Pascal's triangle II"
   ]
  },
  {
   "cell_type": "markdown",
   "metadata": {},
   "source": [
    "### 题目来源：\n",
    "https://leetcode.com/problems/pascals-triangle-ii/"
   ]
  },
  {
   "cell_type": "markdown",
   "metadata": {},
   "source": [
    "### 题意分析：\n",
    "给定k，返回第k行杨辉三角的数值，只使用第k行的元素的空间"
   ]
  },
  {
   "cell_type": "markdown",
   "metadata": {},
   "source": [
    "### 代码python："
   ]
  },
  {
   "cell_type": "code",
   "execution_count": null,
   "metadata": {},
   "outputs": [],
   "source": [
    "'''\n",
    "思路：使用迭代的方法，时间复杂度O(n^2) \n",
    "杨辉三角 第一行 1个 第二行 2个 第三行 3个\n",
    "如果按索引算 n=0 1个 n=1 2个 n=2 3个\n",
    "此题给的是索引值，元素个数即为 rowIndex + 1\n",
    "'''\n",
    "class Solution(object):\n",
    "    def getRow(self, rowIndex):\n",
    "        \"\"\"\n",
    "        :type rowIndex: int\n",
    "        :rtype: List[int]\n",
    "        \"\"\"\n",
    "        if rowIndex < 0:\n",
    "            return []\n",
    "        re = [1] * (rowIndex + 1)\n",
    "        for i in range(rowIndex + 1):\n",
    "            # i=0 i=1 不进入j的循环\n",
    "            for j in xrange(i - 1, 0, -1):\n",
    "                re[j] += re[j-1]\n",
    "        return re\n",
    "                \n",
    "        "
   ]
  },
  {
   "cell_type": "code",
   "execution_count": 1,
   "metadata": {},
   "outputs": [
    {
     "name": "stdout",
     "output_type": "stream",
     "text": [
      "4\n",
      "3\n",
      "2\n",
      "1\n"
     ]
    }
   ],
   "source": [
    "for j in range(5 - 1, 0, -1):\n",
    "    print(j)"
   ]
  },
  {
   "cell_type": "code",
   "execution_count": 6,
   "metadata": {},
   "outputs": [],
   "source": [
    "for j in range(0, 0, -1):\n",
    "    print(j)\n",
    "左边右边相等时不会进入循环"
   ]
  },
  {
   "cell_type": "code",
   "execution_count": 7,
   "metadata": {},
   "outputs": [
    {
     "name": "stdout",
     "output_type": "stream",
     "text": [
      "1\n"
     ]
    }
   ],
   "source": [
    "for j in range(1, 0, -1):\n",
    "    print(j)"
   ]
  },
  {
   "cell_type": "code",
   "execution_count": 4,
   "metadata": {},
   "outputs": [
    {
     "name": "stdout",
     "output_type": "stream",
     "text": [
      "2\n",
      "3\n",
      "3\n",
      "4\n",
      "6\n",
      "4\n",
      "5\n",
      "10\n",
      "10\n",
      "5\n"
     ]
    }
   ],
   "source": [
    "'''\n",
    "用一行呈现所有行结果\n",
    "'''\n",
    "rowIndex = 5\n",
    "re = [0] * (rowIndex + 1)\n",
    "for i in range(rowIndex + 1):\n",
    "    re[i] = 1\n",
    "    for j in range(i - 1, 0, -1):\n",
    "        re[j] += re[j - 1]\n",
    "        print(re[j])"
   ]
  },
  {
   "cell_type": "markdown",
   "metadata": {},
   "source": [
    "### python中lambda的用法 \n",
    "https://blog.csdn.net/yezonggang/article/details/50978114\n",
    "###### lambda语句中，冒号前是参数，可以有多个，用逗号隔开，冒号右边的返回值。"
   ]
  }
 ],
 "metadata": {
  "kernelspec": {
   "display_name": "Python 3",
   "language": "python",
   "name": "python3"
  },
  "language_info": {
   "codemirror_mode": {
    "name": "ipython",
    "version": 3
   },
   "file_extension": ".py",
   "mimetype": "text/x-python",
   "name": "python",
   "nbconvert_exporter": "python",
   "pygments_lexer": "ipython3",
   "version": "3.6.4"
  }
 },
 "nbformat": 4,
 "nbformat_minor": 2
}
