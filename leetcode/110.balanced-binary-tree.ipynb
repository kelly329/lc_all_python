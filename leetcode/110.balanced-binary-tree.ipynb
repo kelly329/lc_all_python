{
 "cells": [
  {
   "cell_type": "markdown",
   "metadata": {},
   "source": [
    "### [LeetCode]题解（python）：110-Balanced Binary Tree"
   ]
  },
  {
   "cell_type": "markdown",
   "metadata": {},
   "source": [
    "### 题目来源：\n",
    "https://leetcode.com/problems/balanced-binary-tree/"
   ]
  },
  {
   "cell_type": "markdown",
   "metadata": {},
   "source": [
    "### 题意分析：\n",
    "给定一棵二叉树，判断是否是平衡二叉树，左右子树深度之差小于等于1"
   ]
  },
  {
   "cell_type": "markdown",
   "metadata": {},
   "source": [
    "### 代码python："
   ]
  },
  {
   "cell_type": "code",
   "execution_count": null,
   "metadata": {},
   "outputs": [],
   "source": [
    "'''\n",
    "思路：使用深度优先遍历，得到左右子树的深度，对比是否相差超过1就可以得到结果，\n",
    "需要考虑的是在发现不平衡之后，最快速的返回结果，不做多余计算\n",
    "'''\n",
    "# Definition for a binary tree node.\n",
    "# class TreeNode(object):\n",
    "#     def __init__(self, x):\n",
    "#         self.val = x\n",
    "#         self.left = None\n",
    "#         self.right = None\n",
    "\n",
    "class Solution(object):\n",
    "    def isBalanced(self, root):\n",
    "        \"\"\"\n",
    "        :type root: TreeNode\n",
    "        :rtype: bool\n",
    "        \"\"\"\n",
    "        return self.getBalanceHeight(root) != -1\n",
    "    def getBalanceHeight(self, root):\n",
    "        if root is None:\n",
    "            return 0;\n",
    "        leftHeight = self.getBalanceHeight(root.left)\n",
    "        # 当左子树不是平衡二叉树时，就立刻终止继续\n",
    "        if leftHeight < 0:\n",
    "            return -1\n",
    "        rightHeight = self.getBalanceHeight(root.right)\n",
    "        # 当右子树不是平衡二叉树时，就立刻终止继续\n",
    "        if rightHeight < 0:\n",
    "            return -1\n",
    "        if math.fabs(leftHeight - rightHeight) > 1:\n",
    "            return -1\n",
    "        return max(leftHeight, rightHeight) + 1"
   ]
  }
 ],
 "metadata": {
  "kernelspec": {
   "display_name": "Python 3",
   "language": "python",
   "name": "python3"
  },
  "language_info": {
   "codemirror_mode": {
    "name": "ipython",
    "version": 3
   },
   "file_extension": ".py",
   "mimetype": "text/x-python",
   "name": "python",
   "nbconvert_exporter": "python",
   "pygments_lexer": "ipython3",
   "version": "3.6.4"
  }
 },
 "nbformat": 4,
 "nbformat_minor": 2
}
