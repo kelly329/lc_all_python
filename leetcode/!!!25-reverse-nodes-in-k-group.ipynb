{
 "cells": [
  {
   "cell_type": "markdown",
   "metadata": {},
   "source": [
    "### [LeetCode]题解（python）：25-Reverse Nodes in k-Group"
   ]
  },
  {
   "cell_type": "markdown",
   "metadata": {},
   "source": [
    "### 题目来源：\n",
    "https://leetcode.com/problems/reverse-nodes-in-k-group/description/"
   ]
  },
  {
   "cell_type": "markdown",
   "metadata": {},
   "source": [
    "### 题意分析：\n",
    "给定一个单链表，以每组k个节点反转链表，最后返回修改后的结果。其中k小于链表长度，对于最后不足k个节点的组，不进行反转。"
   ]
  },
  {
   "cell_type": "markdown",
   "metadata": {},
   "source": [
    "输入：1->2->3->4->5 k = 2\n",
    "输出：2->1->4->3->5\n",
    "\n",
    "输入：1->2->3->4->5 k = 3\n",
    "输出：3->2->1->4->5"
   ]
  },
  {
   "cell_type": "markdown",
   "metadata": {},
   "source": [
    "### 代码python："
   ]
  },
  {
   "cell_type": "code",
   "execution_count": 2,
   "metadata": {},
   "outputs": [],
   "source": [
    "'''\n",
    "思路：\n",
    "1.在每k个节点进行反转时，需要记录此组的开始节点、结束节点（得到下一组开始的节点）\n",
    "2.在反转过程中需要3个指针变量进行反转\n",
    "'''\n",
    "# Definition for singly-linked list.\n",
    "# class ListNode:\n",
    "#     def __init__(self, x):\n",
    "#         self.val = x\n",
    "#         self.next = None\n",
    "class Solution(object):\n",
    "    def reverseKGroup(self, head, k):\n",
    "        \"\"\"\n",
    "        :type head: ListNode\n",
    "        :type k: int\n",
    "        :rtype: ListNode\n",
    "        \"\"\"\n",
    "        if head == None or k <= 1:\n",
    "            return head\n",
    "        dummy = ListNode(0)\n",
    "        dummy.next = head\n",
    "        cur = dummy\n",
    "        while(cur):\n",
    "            first = cur.next\n",
    "            i = 0\n",
    "            end = cur\n",
    "            while(i < k and end != None):\n",
    "                end = end.next\n",
    "                i += 1\n",
    "            if(end == None):\n",
    "                break\n",
    "            \n",
    "            p1, p2 = first, first.next\n",
    "            while(p1 != end):\n",
    "                new_p2 = p2.next\n",
    "                p2.next = p1\n",
    "                p1 = p2\n",
    "                p2 = new_p2\n",
    "            first.next = p2\n",
    "            cur.next = end\n",
    "            cur = first\n",
    "        return dummy.next\n",
    "        "
   ]
  },
  {
   "cell_type": "markdown",
   "metadata": {},
   "source": [
    "### 扩展：从尾开始k组反转链表\n",
    "输入：1->2->3->4->5 k = 2\n",
    "输出：1->3->2->5->4\n",
    "\n",
    "输入：1->2->3->4->5 k = 3\n",
    "输出：1->2->5->4->3"
   ]
  },
  {
   "cell_type": "markdown",
   "metadata": {},
   "source": [
    "### 解题思路\n",
    "思路一：\n",
    "1.反转链表\n",
    "2.以k个节点为一组反转链表（leetcode25）\n",
    "3.最后再次反转链表"
   ]
  },
  {
   "cell_type": "code",
   "execution_count": null,
   "metadata": {},
   "outputs": [],
   "source": [
    "class Solution(object):\n",
    "    def reverseKGroupPlus(self, head, k):\n",
    "        \"\"\"\n",
    "        :type head: ListNode\n",
    "        :type k: int\n",
    "        :rtype: ListNode\n",
    "        \"\"\"\n",
    "        # 翻转链表\n",
    "        head = reverseList(head)\n",
    "        # k个一组翻转链表\n",
    "        head = reverseKGroup(head,k)\n",
    "          # 翻转链表\n",
    "        head = reverseList(head)\n",
    "        return head"
   ]
  },
  {
   "cell_type": "markdown",
   "metadata": {},
   "source": [
    "思路二【改进思路一】：\n",
    "与leetcode25不同，一个是从头以k组反转链表，剩余尾部不足k的节点,此题从尾部开始反转剩余头部不足k的节点；\n",
    "所以只要找到链表长度满足k*n的开始节点即可，之后把前半部分与此部分连接即可。"
   ]
  },
  {
   "cell_type": "code",
   "execution_count": 4,
   "metadata": {},
   "outputs": [],
   "source": [
    "class Solution(object):\n",
    "    def reverseKGroupPlus(self, head, k):\n",
    "        \"\"\"\n",
    "        :type head: ListNode\n",
    "        :type k: int\n",
    "        :rtype: ListNode\n",
    "        \"\"\"\n",
    "        if head == None or k <= 1:\n",
    "            return head\n",
    "        # 计算链表原始长度\n",
    "        length = linkedLength(head)\n",
    "        if length < k:\n",
    "            return head\n",
    "        # 计算offsetIndex\n",
    "        offsetIndex = length % k\n",
    "        \n",
    "        # 原始链表正好由k分为n组，可以直接采用leetcode25\n",
    "        if offsetIndex == 0:\n",
    "            return reverseKGroup(head,k)\n",
    "        # 定义找到prev 与 offset\n",
    "        prev, offset = head, head\n",
    "        while offsetIndex > 0:\n",
    "            prev = offset\n",
    "            offset = offset.next\n",
    "            offsetIndex -= 1\n",
    "        # 将offset节点为起始点的子链表进行翻转，再拼接回主链表\n",
    "        prev.next = reverseKGroup(offset,k)\n",
    "        return head"
   ]
  }
 ],
 "metadata": {
  "kernelspec": {
   "display_name": "Python 3",
   "language": "python",
   "name": "python3"
  },
  "language_info": {
   "codemirror_mode": {
    "name": "ipython",
    "version": 3
   },
   "file_extension": ".py",
   "mimetype": "text/x-python",
   "name": "python",
   "nbconvert_exporter": "python",
   "pygments_lexer": "ipython3",
   "version": "3.6.4"
  }
 },
 "nbformat": 4,
 "nbformat_minor": 2
}
