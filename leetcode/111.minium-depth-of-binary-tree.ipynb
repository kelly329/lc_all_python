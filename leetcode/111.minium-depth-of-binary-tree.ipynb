{
 "cells": [
  {
   "cell_type": "markdown",
   "metadata": {},
   "source": [
    "### [LeetCode]题解（python）：111-Minimum Depth of Binary Tree"
   ]
  },
  {
   "cell_type": "markdown",
   "metadata": {},
   "source": [
    "### 题目来源：\n",
    "https://leetcode.com/problems/minimum-depth-of-binary-tree/"
   ]
  },
  {
   "cell_type": "markdown",
   "metadata": {},
   "source": [
    "### 题意分析：\n",
    "给定一棵二叉树，返回二叉树的最小高度"
   ]
  },
  {
   "cell_type": "markdown",
   "metadata": {},
   "source": [
    "### 代码python："
   ]
  },
  {
   "cell_type": "code",
   "execution_count": null,
   "metadata": {},
   "outputs": [],
   "source": [
    "'''\n",
    "思路：计算出左，右子树的高度，返回最小高度，但需要注意的是如果左子树或右子树有一个为空，则子树高度返回是0\n",
    "所以要对叶子节点进行判断。\n",
    "'''\n",
    "# Definition for a binary tree node.\n",
    "# class TreeNode(object):\n",
    "#     def __init__(self, x):\n",
    "#         self.val = x\n",
    "#         self.left = None\n",
    "#         self.right = None\n",
    "\n",
    "class Solution(object):\n",
    "    def minDepth(self, root):\n",
    "        \"\"\"\n",
    "        :type root: TreeNode\n",
    "        :rtype: int\n",
    "        \"\"\"\n",
    "        if root is None:\n",
    "            return 0\n",
    "        left = self.minDepth(root.left)\n",
    "        right = self.minDrpth(root.right)\n",
    "        \n",
    "        if not left and not right:\n",
    "            return 1\n",
    "        elif not left:\n",
    "            return right + 1\n",
    "        elif not right:\n",
    "            return left + 1\n",
    "        else:\n",
    "            return min(left.right)"
   ]
  }
 ],
 "metadata": {
  "kernelspec": {
   "display_name": "Python 3",
   "language": "python",
   "name": "python3"
  },
  "language_info": {
   "codemirror_mode": {
    "name": "ipython",
    "version": 3
   },
   "file_extension": ".py",
   "mimetype": "text/x-python",
   "name": "python",
   "nbconvert_exporter": "python",
   "pygments_lexer": "ipython3",
   "version": "3.6.4"
  }
 },
 "nbformat": 4,
 "nbformat_minor": 2
}
