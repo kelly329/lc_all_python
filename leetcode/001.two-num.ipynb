{
 "cells": [
  {
   "cell_type": "markdown",
   "metadata": {},
   "source": [
    "### [LeetCode]题解（python）：001-Two-Sum"
   ]
  },
  {
   "cell_type": "markdown",
   "metadata": {},
   "source": [
    "### 题目来源：\n",
    "https://leetcode.com/problems/two-sum/"
   ]
  },
  {
   "cell_type": "markdown",
   "metadata": {},
   "source": [
    "### 题意分析：\n",
    "这道题目是输入一个数组和target，要在数组中找两个数，其和为target，返回这两个数在数据中索引值，题目中假设有且仅有一个答案"
   ]
  },
  {
   "attachments": {},
   "cell_type": "markdown",
   "metadata": {},
   "source": [
    "### 解题思路：\n",
    "\n",
    "1.如果暴力解决，之间循环遍历数组，时间复杂度为O(n^2)\n",
    "\n",
    "2.如果给定的数组有序，如果是有序的数组，可以用“夹逼定理”处理。简单的说首位相加，如果比traget大，则将尾数左移；如果比target小，则首右移，知道两个数相加刚好等于target。所以可以先给数组进行排序，然后在使用“夹逼定理”，这种方法时间复杂度为O（nlogn），这种方法要注意的是排序的时候要记录数组原来的位置，然后再排序。\n",
    "\n",
    "3.python里面有一个dictionary，是查找，表因为是查找，所以想到hash表，将数字放在map中，遍历数组，如果出现数组的某个值相加为target时，break。首先，建立一个字典dict，字典的key是数组值的num，value相应的位置（数组的索引），然后只要满足num和target-num都在字典里面找到答案。时间复杂度O（n）"
   ]
  },
  {
   "cell_type": "markdown",
   "metadata": {},
   "source": [
    "### 代码python："
   ]
  },
  {
   "cell_type": "code",
   "execution_count": 1,
   "metadata": {},
   "outputs": [],
   "source": [
    "class Solution(object):\n",
    "    def twoSum(self, nums, target):\n",
    "        \"\"\"\n",
    "        :type nums: List[int]\n",
    "        :type target: int\n",
    "        :rtype: List[int]\n",
    "        \"\"\"\n",
    "        dict  = {}\n",
    "        for i, num in enumerate(nums):\n",
    "            if target - num in dict:\n",
    "                return dict[target-num], i \n",
    "            dict[num] = i"
   ]
  },
  {
   "cell_type": "markdown",
   "metadata": {},
   "source": [
    "### 知识学习总结\n",
    "enumerate() https://blog.csdn.net/churximi/article/details/51648388\n",
    "enumerate多用于在for循环中得到计数"
   ]
  },
  {
   "cell_type": "code",
   "execution_count": null,
   "metadata": {},
   "outputs": [],
   "source": [
    "# 如果对一个列表，既要遍历索引又要遍历元素时，首先可以这样写\n",
    "list1 = [\"这\", \"是\", \"一个\", \"测试\"]\n",
    "   for i in range (len(list1)):\n",
    "     print i ,list1[i]"
   ]
  },
  {
   "cell_type": "code",
   "execution_count": null,
   "metadata": {},
   "outputs": [],
   "source": [
    "# 上述方法有些累赘，利用enumerate()会更加直接：\n",
    "list1 = [\"这\", \"是\", \"一个\", \"测试\"]\n",
    "for index, item in enumerate(list1):\n",
    "    print index, item\n",
    ">>>\n",
    "0 这\n",
    "1 是\n",
    "2 一个\n",
    "3 测试\n",
    "# enumerate还可以接收第二个参数，用于指定索引起始值\n",
    "list1 = [\"这\", \"是\", \"一个\", \"测试\"]\n",
    "for index, item in enumerate(list1, 1):\n",
    "    print index, item\n",
    ">>>\n",
    "1 这\n",
    "2 是\n",
    "3 一个\n",
    "4 测试"
   ]
  },
  {
   "cell_type": "markdown",
   "metadata": {},
   "source": [
    "dict https://www.cnblogs.com/technologylife/p/5628582.html \n",
    "dict用花括号｛｝表示，然后按照 key: value, 写出来即可。最后一个 key: value 的逗号可以省略。\n",
    "\n",
    "①、dict 的查找速度快，无论dict有10个元素还是10万个元素，查找速度都一样。而list的查找速度随着元素增加而逐渐下降。\n",
    "\n",
    "   dict的缺点是占用内存大，还会浪费很多内容，list正好相反，占用内存小，但是查找速度慢\n",
    "\n",
    "②、dict 通过key 来查找 value ,因此key 不能重复，而value可重复\n",
    "\n",
    "③、dict储存的\"key:value\"是无序的，即不可用索引号切片等。"
   ]
  }
 ],
 "metadata": {
  "kernelspec": {
   "display_name": "Python 3",
   "language": "python",
   "name": "python3"
  },
  "language_info": {
   "codemirror_mode": {
    "name": "ipython",
    "version": 3
   },
   "file_extension": ".py",
   "mimetype": "text/x-python",
   "name": "python",
   "nbconvert_exporter": "python",
   "pygments_lexer": "ipython3",
   "version": "3.6.4"
  }
 },
 "nbformat": 4,
 "nbformat_minor": 2
}
