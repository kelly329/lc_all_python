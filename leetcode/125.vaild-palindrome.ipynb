{
 "cells": [
  {
   "cell_type": "markdown",
   "metadata": {},
   "source": [
    "### [LeetCode]题解（python）：125-Valid Palindrome"
   ]
  },
  {
   "cell_type": "markdown",
   "metadata": {},
   "source": [
    "### 题目来源：\n",
    "https://leetcode.com/problems/valid-palindrome/description/"
   ]
  },
  {
   "cell_type": "markdown",
   "metadata": {},
   "source": [
    "### 题意分析：\n",
    "给定字符串，判断字符串是否为回文，只考虑字母和数字，并忽略字母大小写\n",
    "注：空字符串也是回文\n"
   ]
  },
  {
   "cell_type": "markdown",
   "metadata": {},
   "source": [
    "### 代码python："
   ]
  },
  {
   "cell_type": "code",
   "execution_count": null,
   "metadata": {},
   "outputs": [],
   "source": [
    "'''\n",
    "思路一：将不是字母和数字的字符去掉，然后转换为小写，然后简单的回文判断 时间很长 如果字符串过长 时间会很长\n",
    "'''\n",
    "class Solution(object):\n",
    "    def isPalindrome(self, s):\n",
    "        \"\"\"\n",
    "        :type s: str\n",
    "        :rtype: bool\n",
    "        \"\"\"\n",
    "           if s == '':\n",
    "            return True\n",
    "        else:\n",
    "            sTmp = ''\n",
    "            for i in range(0, len(s)):\n",
    "                if s[i] >= 'a' and s[i] <= 'z' or s[i] >= '0' and s[i] <= '9' or s[i] >= 'A' and s[i] <= 'Z':\n",
    "                    sTmp += s[i]\n",
    "            sTmp = sTmp.lower()\n",
    "            # 这里使用字符串的长度length值 所以不用length/2 + 1\n",
    "            for i in range(0, len(sTmp)/2):\n",
    "                if sTmp[i] != sTmp[len(sTmp)-1-i]:\n",
    "                    return False\n",
    "            return True\n",
    "        "
   ]
  },
  {
   "cell_type": "code",
   "execution_count": null,
   "metadata": {},
   "outputs": [],
   "source": [
    "'''\n",
    "思路二：使用两个指针，一个从前开始，一个从后，如果扫描到不是字符跳过即可\n",
    "'''\n",
    "class Solution(object):\n",
    "    def isPalindrome(self, s):\n",
    "        \"\"\"\n",
    "        :type s: str\n",
    "        :rtype: bool\n",
    "        \"\"\"\n",
    "        start, end = 0, len(s) - 1\n",
    "        while start < end:\n",
    "            # 当不是字符不是字母和数字时，start向前移动一个，跳出本次循环，end是不动的\n",
    "            if not s[start].isalnum():\n",
    "                start += 1\n",
    "                continue\n",
    "            if not s[end].isalnum():\n",
    "                end -= 1\n",
    "                continue\n",
    "            if s[start].lower() != s[end].lower():\n",
    "                return False\n",
    "            start += 1\n",
    "            end -= 1\n",
    "        return True\n"
   ]
  },
  {
   "cell_type": "markdown",
   "metadata": {},
   "source": [
    "#### Python isalnum()方法\n",
    "###### Python isalnum() 方法检测字符串是否由字母和数字组成。 str.isalnum() 返回值为布尔类型"
   ]
  }
 ],
 "metadata": {
  "kernelspec": {
   "display_name": "Python 3",
   "language": "python",
   "name": "python3"
  },
  "language_info": {
   "codemirror_mode": {
    "name": "ipython",
    "version": 3
   },
   "file_extension": ".py",
   "mimetype": "text/x-python",
   "name": "python",
   "nbconvert_exporter": "python",
   "pygments_lexer": "ipython3",
   "version": "3.6.4"
  }
 },
 "nbformat": 4,
 "nbformat_minor": 2
}
