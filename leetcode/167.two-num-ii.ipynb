{
 "cells": [
  {
   "cell_type": "markdown",
   "metadata": {},
   "source": [
    "### [LeetCode]题解（python）：167-Two-Sum II Input Array Is Sorted"
   ]
  },
  {
   "cell_type": "markdown",
   "metadata": {},
   "source": [
    "### 题目来源：\n",
    "https://leetcode.com/problems/two-sum-ii-input-array-is-sorted/"
   ]
  },
  {
   "cell_type": "markdown",
   "metadata": {},
   "source": [
    "### 题意分析：\n",
    "1. 有序数组；2. 有唯一解。所以解的两个数一定都是数组中唯一存在的数。"
   ]
  },
  {
   "cell_type": "markdown",
   "metadata": {},
   "source": [
    "### 代码python："
   ]
  },
  {
   "cell_type": "code",
   "execution_count": 1,
   "metadata": {},
   "outputs": [],
   "source": [
    "'''\n",
    "思路一：扫描数组，用字典记录扫描历史，并判断可能成对的另一个数是否在数组中。\n",
    "返回的数值索引从1开始\n",
    "'''\n",
    "class Solution(object):\n",
    "    def twoSum(self, numbers, target):\n",
    "         \"\"\"\n",
    "        :type numbers: List[int]\n",
    "        :type target: int\n",
    "        :rtype: List[int]\n",
    "        \"\"\"\n",
    "        new_dict = {}\n",
    "        for i, num in enumerate(numbers):\n",
    "            if (target - num) in new_dict:\n",
    "                return (new_dict[target - num], i + 1)\n",
    "            new_dict[num] = i + 1\n",
    "        "
   ]
  },
  {
   "cell_type": "code",
   "execution_count": null,
   "metadata": {},
   "outputs": [],
   "source": [
    "'''\n",
    "思路二：利用两个指针从数组的两侧开始向中间移动，寻找第一对和为target的两个数即为所求。\n",
    "'''\n",
    "class Solution(object):\n",
    "    def twoSum(self, numbers, target):\n",
    "        \"\"\"\n",
    "        :type numbers: List[int]\n",
    "        :type target: int\n",
    "        :rtype: List[int]\n",
    "        \"\"\"\n",
    "        left, right = 0, len(numbers) - 1\n",
    "        while left < right:\n",
    "            if numbers[left] + numbers[right] == target:\n",
    "                return left + 1, right + 1\n",
    "            elif numbers[left] + numbers[right] > target:\n",
    "                right -= 1\n",
    "            else:\n",
    "                left += 1"
   ]
  },
  {
   "cell_type": "markdown",
   "metadata": {},
   "source": [
    "### 知识学习总结\n",
    "enumerate() https://blog.csdn.net/churximi/article/details/51648388\n",
    "enumerate多用于在for循环中得到计数"
   ]
  },
  {
   "cell_type": "code",
   "execution_count": 2,
   "metadata": {},
   "outputs": [
    {
     "ename": "IndentationError",
     "evalue": "unexpected indent (<ipython-input-2-c77b7672280a>, line 3)",
     "output_type": "error",
     "traceback": [
      "\u001b[0;36m  File \u001b[0;32m\"<ipython-input-2-c77b7672280a>\"\u001b[0;36m, line \u001b[0;32m3\u001b[0m\n\u001b[0;31m    for i in range (len(list1)):\u001b[0m\n\u001b[0m    ^\u001b[0m\n\u001b[0;31mIndentationError\u001b[0m\u001b[0;31m:\u001b[0m unexpected indent\n"
     ]
    }
   ],
   "source": [
    "# 如果对一个列表，既要遍历索引又要遍历元素时，首先可以这样写\n",
    "list1 = [\"这\", \"是\", \"一个\", \"测试\"]\n",
    "   for i in range (len(list1)):\n",
    "        print i ,list1[i]"
   ]
  },
  {
   "cell_type": "code",
   "execution_count": null,
   "metadata": {},
   "outputs": [],
   "source": [
    "# 上述方法有些累赘，利用enumerate()会更加直接：\n",
    "list1 = [\"这\", \"是\", \"一个\", \"测试\"]\n",
    "for index, item in enumerate(list1):\n",
    "    print index, item\n",
    ">>>\n",
    "0 这\n",
    "1 是\n",
    "2 一个\n",
    "3 测试\n",
    "# enumerate还可以接收第二个参数，用于指定索引起始值\n",
    "list1 = [\"这\", \"是\", \"一个\", \"测试\"]\n",
    "for index, item in enumerate(list1, 1):\n",
    "    print index, item\n",
    ">>>\n",
    "1 这\n",
    "2 是\n",
    "3 一个\n",
    "4 测试"
   ]
  },
  {
   "cell_type": "markdown",
   "metadata": {},
   "source": [
    "dict https://www.cnblogs.com/technologylife/p/5628582.html \n",
    "dict用花括号｛｝表示，然后按照 key: value, 写出来即可。最后一个 key: value 的逗号可以省略。\n",
    "\n",
    "①、dict 的查找速度快，无论dict有10个元素还是10万个元素，查找速度都一样。而list的查找速度随着元素增加而逐渐下降。\n",
    "\n",
    "   dict的缺点是占用内存大，还会浪费很多内容，list正好相反，占用内存小，但是查找速度慢\n",
    "\n",
    "②、dict 通过key 来查找 value ,因此key 不能重复，而value可重复\n",
    "\n",
    "③、dict储存的\"key:value\"是无序的，即不可用索引号切片等。"
   ]
  }
 ],
 "metadata": {
  "kernelspec": {
   "display_name": "Python 3",
   "language": "python",
   "name": "python3"
  },
  "language_info": {
   "codemirror_mode": {
    "name": "ipython",
    "version": 3
   },
   "file_extension": ".py",
   "mimetype": "text/x-python",
   "name": "python",
   "nbconvert_exporter": "python",
   "pygments_lexer": "ipython3",
   "version": "3.6.4"
  }
 },
 "nbformat": 4,
 "nbformat_minor": 2
}
