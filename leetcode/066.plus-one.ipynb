{
 "cells": [
  {
   "cell_type": "markdown",
   "metadata": {},
   "source": [
    "### [LeetCode]题解（python）：066-Plus One"
   ]
  },
  {
   "cell_type": "markdown",
   "metadata": {},
   "source": [
    "### 题目来源：\n",
    "https://leetcode.com/problems/plus-one/"
   ]
  },
  {
   "cell_type": "markdown",
   "metadata": {},
   "source": [
    "### 题意分析：\n",
    "给定一个数组，此数组代表一个数，数字的最高位在数组的最前面，数字的最低位在数组的最后面，输出该数组加1得到的数组"
   ]
  },
  {
   "cell_type": "markdown",
   "metadata": {},
   "source": [
    "### 代码python："
   ]
  },
  {
   "cell_type": "code",
   "execution_count": null,
   "metadata": {},
   "outputs": [],
   "source": [
    "'''\n",
    "思路：从数组的尾部开始遍历，若该位加1，不产生进位，将该位加1返回结果即可，若产生进位，则该位为位置为0，继续遍历即可\n",
    "'''\n",
    "class Solution(object):\n",
    "    def plusOne(self, digits):\n",
    "        \"\"\"\n",
    "        :type digits: List[int]\n",
    "        :rtype: List[int]\n",
    "        \"\"\"\n",
    "        # 此if判断加不加，运行时间同样\n",
    "        if digits[-1] + 1 < 10:\n",
    "            digits[-1] += 1\n",
    "            return digits\n",
    "        carry = 1\n",
    "        # 这里的reversed是对索引逆序，并未对数组逆序\n",
    "        for i in reversed(xrange(0, len(digits))):\n",
    "            digit = (digits[i] + carry) % 10\n",
    "            carry = 1 if digit < digits[i] else 0\n",
    "            digits[i] = digit\n",
    "        if carry == 1:\n",
    "            return [1] + digits\n",
    "        return digits\n",
    "                          "
   ]
  },
  {
   "cell_type": "code",
   "execution_count": 16,
   "metadata": {},
   "outputs": [
    {
     "name": "stdout",
     "output_type": "stream",
     "text": [
      "6\n",
      "range(0, 7)\n",
      "[1, 7, 8, 9, 2, 1, 0]\n",
      "5\n",
      "range(0, 7)\n",
      "[1, 7, 8, 9, 2, 2, 0]\n",
      "4\n",
      "range(0, 7)\n",
      "[1, 7, 8, 9, 2, 2, 0]\n",
      "3\n",
      "range(0, 7)\n",
      "[1, 7, 8, 9, 2, 2, 0]\n",
      "2\n",
      "range(0, 7)\n",
      "[1, 7, 8, 9, 2, 2, 0]\n",
      "1\n",
      "range(0, 7)\n",
      "[1, 7, 8, 9, 2, 2, 0]\n",
      "0\n",
      "range(0, 7)\n",
      "[1, 7, 8, 9, 2, 2, 0]\n"
     ]
    }
   ],
   "source": [
    "digits =[1,7,8,9,2,1,9]\n",
    "carry = 1\n",
    "for i in reversed(range(0,len(digits))):\n",
    "    print(i)\n",
    "    print(range(0,len(digits)))\n",
    "    digit = (digits[i] + carry) % 10\n",
    "    carry = 1 if digit < digits[i] else 0\n",
    "    digits[i] = digit\n",
    "    print(digits)"
   ]
  },
  {
   "cell_type": "markdown",
   "metadata": {},
   "source": [
    "### 知识点\n",
    "1. reversed():reversed()函数是返回序列seq的反向访问的迭代子。参数可以是列表，元组，字符串，不改变原对象。"
   ]
  }
 ],
 "metadata": {
  "kernelspec": {
   "display_name": "Python 3",
   "language": "python",
   "name": "python3"
  },
  "language_info": {
   "codemirror_mode": {
    "name": "ipython",
    "version": 3
   },
   "file_extension": ".py",
   "mimetype": "text/x-python",
   "name": "python",
   "nbconvert_exporter": "python",
   "pygments_lexer": "ipython3",
   "version": "3.6.4"
  }
 },
 "nbformat": 4,
 "nbformat_minor": 2
}
