{
 "cells": [
  {
   "cell_type": "markdown",
   "metadata": {},
   "source": [
    "### [LeetCode]题解（Python）：243-Shortest Word Distance"
   ]
  },
  {
   "cell_type": "markdown",
   "metadata": {},
   "source": [
    "### 题目来源：\n",
    "https://leetcode.com/problems/shortest-word-distance/"
   ]
  },
  {
   "cell_type": "markdown",
   "metadata": {},
   "source": [
    "### 题意分析：\n",
    "Given a list of words and two words word1 and word2, return the shortest distance between these two words in the list.\n",
    "\n",
    "For example, Assume that words = [\"practice\", \"makes\", \"perfect\", \"coding\", \"makes\"].\n",
    "\n",
    "Given word1 = “coding”, word2 = “practice”, return 3. Given word1 = \"makes\", word2 = \"coding\", return 1.\n",
    "\n",
    "Note: You may assume that word1 does not equal to word2, and word1 and word2 are both in the list."
   ]
  },
  {
   "cell_type": "markdown",
   "metadata": {},
   "source": [
    "### 代码Python："
   ]
  },
  {
   "cell_type": "code",
   "execution_count": null,
   "metadata": {},
   "outputs": [],
   "source": [
    "'''\n",
    "思路：双指针法 时间 O(N) 空间 O(1)\n",
    "一个指针指向word1上次出现的位置，一个指针指向word2上次出现的位置。\n",
    "两个单词如果比较接近的话，肯定是相邻的word1和word2的位置之差，所以每次只要得到一个新位置和另一个单词的位置比较一下就好\n",
    "'''\n",
    "class Solution(object):\n",
    "    def shortestDistance(self, words, word1, word2):\n",
    "        \"\"\"\n",
    "        :type words: List[str]\n",
    "        :type word1: str\n",
    "        :type word2: str\n",
    "        :rtype: int\n",
    "        \"\"\"\n",
    "        idx1 = idx2 = -1\n",
    "        ans = len(words)\n",
    "        for i in range(len(words)):\n",
    "            if words[i] == word1:\n",
    "                idx1 = i\n",
    "            elif words[i] == word2:\n",
    "                idx2 = i\n",
    "            if idx1 != -1 and idx2 != -1:\n",
    "                ans = min(ans, abs(idx2 - idx1))\n",
    "        return ans"
   ]
  }
 ],
 "metadata": {
  "kernelspec": {
   "display_name": "Python 3",
   "language": "python",
   "name": "python3"
  },
  "language_info": {
   "codemirror_mode": {
    "name": "ipython",
    "version": 3
   },
   "file_extension": ".py",
   "mimetype": "text/x-python",
   "name": "python",
   "nbconvert_exporter": "python",
   "pygments_lexer": "ipython3",
   "version": "3.6.4"
  }
 },
 "nbformat": 4,
 "nbformat_minor": 2
}
