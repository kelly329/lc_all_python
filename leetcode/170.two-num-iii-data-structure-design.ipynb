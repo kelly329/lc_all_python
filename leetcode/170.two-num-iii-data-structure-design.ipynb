{
 "cells": [
  {
   "cell_type": "markdown",
   "metadata": {},
   "source": [
    "### [LeetCode]题解（python）：170-Two Sum III Data Structure Design"
   ]
  },
  {
   "cell_type": "markdown",
   "metadata": {},
   "source": [
    "### 题目来源：\n",
    "https://leetcode.com/problems/two-sum-iii-data-structure-design/"
   ]
  },
  {
   "cell_type": "markdown",
   "metadata": {},
   "source": [
    "### 题意分析：\n",
    "- Design and implement a TwoSum class. It should support the following operations:add and find.\n",
    "\n",
    "- add - Add the number to an internal data structure.\n",
    "- find - Find if there exists any pair of numbers which sum is equal to the value.\n",
    "\n",
    "- For example,\n",
    "- add(1); add(3); add(5);\n",
    "- find(4) -> true\n",
    "- find(7) -> false"
   ]
  },
  {
   "cell_type": "markdown",
   "metadata": {},
   "source": [
    "### 代码python："
   ]
  },
  {
   "cell_type": "code",
   "execution_count": 1,
   "metadata": {},
   "outputs": [],
   "source": [
    "'''\n",
    "思路：\n",
    "'''\n",
    "class TwoSum(object):\n",
    "\n",
    "    def __init__(self):\n",
    "        \"\"\"\n",
    "        initialize your data structure here\n",
    "        \"\"\"\n",
    "        self.nums = {}\n",
    "\n",
    "    def add(self, number):\n",
    "        \"\"\"\n",
    "        Add the number to an internal data structure.\n",
    "        :rtype: nothing\n",
    "        \"\"\"\n",
    "        self.nums[number] = self.nums.get(number, 0) + 1\n",
    "      \n",
    "    def find(self, value):\n",
    "        \"\"\"\n",
    "        Find if there exists any pair of numbers which sum is equal to the value.\n",
    "        :type value: int\n",
    "        :rtype: bool\n",
    "        \"\"\"\n",
    "        d = self.nums\n",
    "        for num in d:\n",
    "            t = value -num\n",
    "            if t in d:\n",
    "                # 若减数与差相等，一定都在dict中，但要检查出现的次数\n",
    "                if t == num:\n",
    "                    if d[t] >= 2:\n",
    "                        return True\n",
    "                return True\n",
    "        return False\n",
    "\n",
    "                    \n",
    "\n",
    "        \n",
    "\n",
    "# Your TwoSum object will be instantiated and called as such:\n",
    "# twoSum = TwoSum()\n",
    "# twoSum.add(number)\n",
    "# twoSum.find(value)"
   ]
  },
  {
   "cell_type": "markdown",
   "metadata": {},
   "source": [
    "### 知识学习总结"
   ]
  },
  {
   "cell_type": "markdown",
   "metadata": {},
   "source": [
    "#### Python 字典(Dictionary) get()方法\n",
    "- Python 字典(Dictionary) get() 函数返回指定键的值，如果值不在字典中返回默认值。"
   ]
  },
  {
   "cell_type": "code",
   "execution_count": 3,
   "metadata": {},
   "outputs": [
    {
     "name": "stdout",
     "output_type": "stream",
     "text": [
      "Value : 27\n",
      "Value : Never\n"
     ]
    }
   ],
   "source": [
    "dict = {'Name': 'Zara', 'Age': 27}\n",
    "\n",
    "print (\"Value : %s\" %dict.get('Age'))\n",
    "print (\"Value : %s\" %dict.get('Sex', \"Never\"))"
   ]
  },
  {
   "cell_type": "code",
   "execution_count": 7,
   "metadata": {},
   "outputs": [
    {
     "name": "stdout",
     "output_type": "stream",
     "text": [
      "0\n",
      "one\n",
      "1\n",
      "two\n",
      "2\n",
      "three\n"
     ]
    }
   ],
   "source": [
    "seq = {'one':'1', 'two':'2', 'three':'3'}\n",
    "for i, element in enumerate(seq):\n",
    "    print(i)\n",
    "    print(element)\n",
    "#     print(seq[i])"
   ]
  }
 ],
 "metadata": {
  "kernelspec": {
   "display_name": "Python 3",
   "language": "python",
   "name": "python3"
  },
  "language_info": {
   "codemirror_mode": {
    "name": "ipython",
    "version": 3
   },
   "file_extension": ".py",
   "mimetype": "text/x-python",
   "name": "python",
   "nbconvert_exporter": "python",
   "pygments_lexer": "ipython3",
   "version": "3.6.4"
  }
 },
 "nbformat": 4,
 "nbformat_minor": 2
}
