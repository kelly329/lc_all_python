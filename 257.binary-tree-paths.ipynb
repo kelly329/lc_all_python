{
 "cells": [
  {
   "cell_type": "markdown",
   "metadata": {},
   "source": [
    "### [LeetCode]题解（Python）：257-Binary Tree Paths"
   ]
  },
  {
   "cell_type": "markdown",
   "metadata": {},
   "source": [
    "### 题目来源：\n",
    "https://leetcode.com/problems/binary-tree-paths/"
   ]
  },
  {
   "cell_type": "markdown",
   "metadata": {},
   "source": [
    "### 题意分析：\n",
    "给定一个二叉树，返回所有从根节点到叶子节点的路径"
   ]
  },
  {
   "cell_type": "markdown",
   "metadata": {},
   "source": [
    "### 代码Python："
   ]
  },
  {
   "cell_type": "code",
   "execution_count": null,
   "metadata": {},
   "outputs": [],
   "source": [
    "'''\n",
    "思路：递归实现深度优先遍历DFS。记录途中经过的节点，遇到叶子节点是可以生成一条路径字符串。\n",
    "关于记录路径，采用先保存在数组里需要生成路径时再生成的方法。\n",
    "'''\n",
    "# Definition for a binary tree node.\n",
    "# class TreeNode(object):\n",
    "#     def __init__(self, x):\n",
    "#         self.val = x\n",
    "#         self.left = None\n",
    "#         self.right = None\n",
    "\n",
    "class Solution(object):\n",
    "    def binaryTreePaths(self, root):\n",
    "        \"\"\"\n",
    "        :type root: TreeNode\n",
    "        :rtype: List[str]\n",
    "        \"\"\"\n",
    "        res, path_list = [], []\n",
    "        self.dfs(root, path_list, res)\n",
    "        return res\n",
    "    def dfs(self, root, path_list, res):\n",
    "        if not root:\n",
    "            return \n",
    "        path_list.append(str(root.val))\n",
    "        if not root.left and not root.right:\n",
    "            res.append('->'.join(path_list))\n",
    "        if root.left:\n",
    "            self.dfs(root.left, path_list, res)\n",
    "        if root.right:\n",
    "            self.dfs(root.right, path_list, res)\n",
    "        path_lsit.pop()\n",
    "        "
   ]
  },
  {
   "cell_type": "code",
   "execution_count": null,
   "metadata": {},
   "outputs": [],
   "source": [
    "'''\n",
    "思路：有递归DFS代码，就可以用栈实现DFS\n",
    "递归快！\n",
    "'''\n",
    "# Definition for a binary tree node.\n",
    "# class TreeNode(object):\n",
    "#     def __init__(self, x):\n",
    "#         self.val = x\n",
    "#         self.left = None\n",
    "#         self.right = None\n",
    "\n",
    "class Solution(object):\n",
    "    def binaryTreePaths(self, root):\n",
    "        \"\"\"\n",
    "        :type root: TreeNode\n",
    "        :rtype: List[str]\n",
    "        \"\"\"\n",
    "        res, stack = [], [(root,  '')]\n",
    "        while stack:\n",
    "            node, curs = stack.pop()\n",
    "            if node:\n",
    "                if not node.left and not node.right:\n",
    "                    res.append(curs + str(node.val))\n",
    "                stack.append((node.left, curs + str(node.val) + '->'))\n",
    "                stack.append((node.right, curs + str(node.val) + '->'))\n",
    "        return res"
   ]
  }
 ],
 "metadata": {
  "kernelspec": {
   "display_name": "Python 3",
   "language": "python",
   "name": "python3"
  },
  "language_info": {
   "codemirror_mode": {
    "name": "ipython",
    "version": 3
   },
   "file_extension": ".py",
   "mimetype": "text/x-python",
   "name": "python",
   "nbconvert_exporter": "python",
   "pygments_lexer": "ipython3",
   "version": "3.6.4"
  }
 },
 "nbformat": 4,
 "nbformat_minor": 2
}
