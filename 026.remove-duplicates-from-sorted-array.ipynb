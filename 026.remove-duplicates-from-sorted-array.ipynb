{
 "cells": [
  {
   "cell_type": "markdown",
   "metadata": {},
   "source": [
    "### [LeetCode]题解（python）：026-Remove Duplicates from Sorted Array"
   ]
  },
  {
   "cell_type": "markdown",
   "metadata": {},
   "source": [
    "### 题目来源：\n",
    "https://leetcode.com/problems/remove-duplicates-from-sorted-array/"
   ]
  },
  {
   "cell_type": "markdown",
   "metadata": {},
   "source": [
    "### 题意分析：\n",
    "给定一个有序数组，直接删除数组中重复的元素，使每个元素只出现一次，并返回长度。不允许申请额外的空间存放另一个数组，只能使用O(1)空间复杂度在原数组操作。\n",
    "比如，给定数组nums = [1,1,2]，你的函数应该返回2，同时数组nums的前两个元素是1和2。在数组长度之外的值是多少无所谓。"
   ]
  },
  {
   "cell_type": "markdown",
   "metadata": {},
   "source": [
    "### 代码python："
   ]
  },
  {
   "cell_type": "code",
   "execution_count": null,
   "metadata": {},
   "outputs": [],
   "source": [
    "'''\n",
    "思路一：使用两个指针，一个指针用于遍历扫描整个数组，另一个指针始终指向下一个数字要写入列表的前一个位置。\n",
    "相当于遍历列表时，将不同的数字重新写入数组\n",
    "'''\n",
    "class Solution(object):\n",
    "    def removeDuplicates(self, nums):\n",
    "        \"\"\"\n",
    "        :type nums: List[int]\n",
    "        :rtype: int\n",
    "        \"\"\"\n",
    "        if len(nums) == 0:\n",
    "            return 0\n",
    "        cur = 0\n",
    "        for i in xrange(1, len(nums)):\n",
    "            if nums[i] != nums[cur]:\n",
    "                cur += 1\n",
    "                nums[cur] = nums[i]\n",
    "        return cur+1"
   ]
  },
  {
   "cell_type": "code",
   "execution_count": 1,
   "metadata": {},
   "outputs": [],
   "source": [
    "'''\n",
    "思路二：使用计数器，用计数器记录重复的数字个数以此来决定下一个要写入数组数字的位置，以及遍历完数组时得到新的数组长度\n",
    "'''\n",
    "\n",
    "class Solution(object):\n",
    "    def removeDuplicates(self, nums):\n",
    "        \"\"\"\n",
    "        :type nums: List[int]\n",
    "        :rtype: int\n",
    "        \"\"\"\n",
    "        count = 0\n",
    "        for i in xrange(1, len(nums)):\n",
    "            if nums[i] == nums[i-1]:\n",
    "                count += 1\n",
    "            else:\n",
    "                nums[i-count] = nums[i]\n",
    "        return len(nums) - count"
   ]
  }
 ],
 "metadata": {
  "kernelspec": {
   "display_name": "Python 3",
   "language": "python",
   "name": "python3"
  },
  "language_info": {
   "codemirror_mode": {
    "name": "ipython",
    "version": 3
   },
   "file_extension": ".py",
   "mimetype": "text/x-python",
   "name": "python",
   "nbconvert_exporter": "python",
   "pygments_lexer": "ipython3",
   "version": "3.6.4"
  }
 },
 "nbformat": 4,
 "nbformat_minor": 2
}
