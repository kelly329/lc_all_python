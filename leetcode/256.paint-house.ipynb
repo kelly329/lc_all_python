{
 "cells": [
  {
   "cell_type": "markdown",
   "metadata": {},
   "source": [
    "### [LeetCode]题解（Python）：256-Paint House"
   ]
  },
  {
   "cell_type": "markdown",
   "metadata": {},
   "source": [
    "### 题目来源：\n",
    "https://leetcode.com/problems/paint-house/"
   ]
  },
  {
   "cell_type": "markdown",
   "metadata": {},
   "source": [
    "### 题意分析：\n",
    "There are a row of n houses, each house can be painted with one of the three colors: red, blue or green. The cost of painting each house with a certain color is different. You have to paint all the houses such that no two adjacent houses have the same color.\n",
    "\n",
    "The cost of painting each house with a certain color is represented by a n x 3 cost matrix. For example,costs[0][0] is the cost of painting house 0 with color red; costs[1][2] is the cost of painting house 1 with color green, and so on... Find the minimum cost to paint all houses."
   ]
  },
  {
   "cell_type": "markdown",
   "metadata": {},
   "source": [
    "### 解题分析：\n",
    "动态规划问题。这道题说有n个房子，每个房子可以使用红绿蓝三种颜色刷，每个房子的用每种颜色刷的费用都不同，限制条件为相邻的房子不可以用相同的颜色来刷，现在求刷完所有房子的最低花费是多少。需要动态规划Dynamic Programming来做，需要维护一个二维的动态数组dp[i][j]表示第i+1个房子用颜色j的最小花费。\n",
    "每个房子有三种染色方案, 那么如果当前房子染红色的话, 最小代价将是上一个房子的绿色和蓝色的最小代价+当前房子染红色的代价。对另外两种颜色也是如此. 因此动态转移方程为:\n",
    "dp[i][0] = min(dp[i-1][1], dp[i-1][2]) + costs[i-1][0];\n",
    "\n",
    "dp[i][1] = min(dp[i-1][0], dp[i-1][2]) + costs[i-1][1];\n",
    "\n",
    "dp[i][2] = min(dp[i-1][0], dp[i-1][1]) + costs[i-1][2];\n",
    "\n"
   ]
  },
  {
   "cell_type": "markdown",
   "metadata": {},
   "source": [
    "### 代码Python："
   ]
  },
  {
   "cell_type": "code",
   "execution_count": 3,
   "metadata": {},
   "outputs": [
    {
     "name": "stdout",
     "output_type": "stream",
     "text": [
      "[0, 1, 2]\n"
     ]
    }
   ],
   "source": [
    "costs = [[0,1,2],[10,11,12]]\n",
    "print(costs[0])\n"
   ]
  },
  {
   "cell_type": "code",
   "execution_count": 8,
   "metadata": {},
   "outputs": [
    {
     "ename": "IndentationError",
     "evalue": "unexpected indent (<ipython-input-8-d40d05b6101c>, line 10)",
     "output_type": "error",
     "traceback": [
      "\u001b[0;36m  File \u001b[0;32m\"<ipython-input-8-d40d05b6101c>\"\u001b[0;36m, line \u001b[0;32m10\u001b[0m\n\u001b[0;31m    costs = [[0,1,2],[10,11,12]]\u001b[0m\n\u001b[0m    ^\u001b[0m\n\u001b[0;31mIndentationError\u001b[0m\u001b[0;31m:\u001b[0m unexpected indent\n"
     ]
    }
   ],
   "source": [
    "class Solution(object):\n",
    "    def minCost(self, costs):\n",
    "        \"\"\"\n",
    "        :type costs: List[List[int]]\n",
    "        :rtype: int\n",
    "        \"\"\"\n",
    "        costs = [[0,1,2],[10,11,12]]\n",
    "        if not costs:\n",
    "            return 0\n",
    "        dp = [0] * (len(costs[0]))\n",
    "        dp[:] = costs[0]\n",
    "        for i in xrange(1, len(costs)):\n",
    "            d0 = d1 = d2 = 0\n",
    "            for j in xrange(0, 3):\n",
    "                if j == 0:\n",
    "                    d0 = min(dp[1], dp[2]) + costs[i][0]\n",
    "                elif j == 1:\n",
    "                    d1 = min(dp[0], dp[2]) + costs[i][1]\n",
    "                else:\n",
    "                    d2 = min(dp[0], dp[1]) + costs[i][2]\n",
    "            dp[0], dp[1], dp[2] = d0, d1, d2\n",
    "        return min(dp)"
   ]
  },
  {
   "cell_type": "code",
   "execution_count": 14,
   "metadata": {},
   "outputs": [
    {
     "name": "stdout",
     "output_type": "stream",
     "text": [
      "2\n",
      "[0, 0, 0]\n",
      "[0, 1, 2]\n"
     ]
    }
   ],
   "source": [
    "costs = [[0,1,2],[10,11,12]]\n",
    "print(len(costs))\n",
    "dp = [0] * (len(costs[0]))\n",
    "print(dp)\n",
    "dp[:] = costs[0]\n",
    "print(dp)"
   ]
  },
  {
   "cell_type": "code",
   "execution_count": null,
   "metadata": {},
   "outputs": [],
   "source": [
    "class Solution(object):\n",
    "    def minCost(self, costs):\n",
    "        \"\"\"\n",
    "        :type costs: List[List[int]]\n",
    "        :rtype: int\n",
    "        \"\"\"\n",
    "        if not costs:\n",
    "            return 0\n",
    "        dp = [0] * (len(costs[0]))\n",
    "        dp[:] = costs[0]\n",
    "        for i in range(1, len(costs)):\n",
    "            d0 = d1 = d2 = 0\n",
    "            for j in range(0, 3):\n",
    "                if j == 0:\n",
    "                    d0 = min(dp[1], dp[2]) + costs[i][0]\n",
    "                elif j == 1:\n",
    "                    d1 = min(dp[0], dp[2]) + costs[i][1]\n",
    "                else:\n",
    "                    d2 = min(dp[0], dp[1]) + costs[i][2]\n",
    "            dp[0], dp[1], dp[2] = d0, d1, d2\n",
    "        return min(dp)"
   ]
  },
  {
   "cell_type": "markdown",
   "metadata": {},
   "source": [
    "### 知识学习：\n",
    "- L1 = L以前有一套三室一厅的房子，户主叫L。后来L和L1结婚，房产证上户主的名字加了一个，但房子还是只有一套。L如果把客厅刷成了蓝色，那L1回家的时候会发现客厅是蓝色的了。\n",
    "- L1 = L[:]从前有一套三室一厅的房子，户主叫L。后来有个叫L1的，觉得L的房子不错，于是买了一套相同户型的，也装修得一模一样。后来L把自己的客厅刷成了蓝色，L1回家发现自己家的客厅还是白色，并没有变成蓝色。\n",
    "\n",
    "L1=L 与 L1=L[:] \n",
    "L1和L 都是对同一个对象的引用（所谓绑定的意思）。\n",
    "L[:] 是生成了一个和L不同的新的对象，L1 变为了L[:] 这个对象的引用。"
   ]
  }
 ],
 "metadata": {
  "kernelspec": {
   "display_name": "Python 3",
   "language": "python",
   "name": "python3"
  },
  "language_info": {
   "codemirror_mode": {
    "name": "ipython",
    "version": 3
   },
   "file_extension": ".py",
   "mimetype": "text/x-python",
   "name": "python",
   "nbconvert_exporter": "python",
   "pygments_lexer": "ipython3",
   "version": "3.6.4"
  }
 },
 "nbformat": 4,
 "nbformat_minor": 2
}
