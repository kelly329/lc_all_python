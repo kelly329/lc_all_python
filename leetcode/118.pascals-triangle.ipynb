{
 "cells": [
  {
   "cell_type": "markdown",
   "metadata": {},
   "source": [
    "### [LeetCode]题解（python）：118-Pascal's triangle"
   ]
  },
  {
   "cell_type": "markdown",
   "metadata": {},
   "source": [
    "### 题目来源：\n",
    "https://leetcode.com/problems/pascals-triangle/"
   ]
  },
  {
   "cell_type": "markdown",
   "metadata": {},
   "source": [
    "### 题意分析：\n",
    "给定几行，生成对应行数的杨辉三角行"
   ]
  },
  {
   "cell_type": "markdown",
   "metadata": {},
   "source": [
    "### 代码python："
   ]
  },
  {
   "cell_type": "code",
   "execution_count": null,
   "metadata": {},
   "outputs": [],
   "source": [
    "'''\n",
    "思路一：每一行的第一个为1，每一行最后一列为1，其余的元素的第i行j列的数值等于第i-1行j-1列和第i-1行j列的和\n",
    "'''\n",
    "class Solution(object):\n",
    "    def generate(self, numRows):\n",
    "        \"\"\"\n",
    "        :type numRows: int\n",
    "        :rtype: List[List[int]]\n",
    "        \"\"\"\n",
    "        result = []\n",
    "        for i in range(numRows):\n",
    "            #每一行的第一个元素值为1\n",
    "            result.append([1])\n",
    "            for j in range(1, i+1):\n",
    "                if i == j:\n",
    "                    # 向第几行插入，直接插入数值即可\n",
    "                    result[i].append(1)\n",
    "                else:\n",
    "                    result[i].append(result[i-1][j-1] + result[i-i][j])\n",
    "        return result"
   ]
  },
  {
   "cell_type": "code",
   "execution_count": null,
   "metadata": {},
   "outputs": [],
   "source": [
    "'''\n",
    "思路二：先把所有的元素赋值为1\n",
    "'''\n",
    "class Solution(object):\n",
    "    def generate(self, numRows):\n",
    "        \"\"\"\n",
    "        :type numRows: int\n",
    "        :rtype: List[List[int]]\n",
    "        \"\"\"\n",
    "        ans = [ [1]* n for i in range(1, numRows + 1)]\n",
    "        for i in range(1, numRows + 1):\n",
    "            # j 因为i行的头尾均为1 所以减去2\n",
    "            for j in range(0, i - 2):\n",
    "                ans[i-1][1 + j] = ans[i - 2][j] + ans[i - 2][j + 1]\n",
    "        return ans\n",
    "            "
   ]
  },
  {
   "cell_type": "code",
   "execution_count": 4,
   "metadata": {},
   "outputs": [
    {
     "name": "stdout",
     "output_type": "stream",
     "text": [
      "[[1, 1]]\n",
      "[[1], [1, 1], [1, 1, 1], [1, 1, 1, 1], [1, 1, 1, 1, 1]]\n"
     ]
    }
   ],
   "source": [
    "numRows = 5\n",
    "\n",
    "ans = [[1] * n for n in range(1, numRows + 1)]\n",
    "test = [[1]*2]\n",
    "print(test)\n",
    "print(ans)"
   ]
  },
  {
   "cell_type": "code",
   "execution_count": 6,
   "metadata": {},
   "outputs": [
    {
     "name": "stdout",
     "output_type": "stream",
     "text": [
      "2\n",
      "3\n",
      "3\n",
      "4\n",
      "6\n",
      "4\n"
     ]
    }
   ],
   "source": [
    "numRows = 5\n",
    "ans = [[1] * n for n in range(1, numRows + 1)]\n",
    "for i in range(1, numRows + 1):\n",
    "    for j in range(0, i - 2):\n",
    "        ans[i - 1][1 + j] = ans[i - 2][j] + ans[i - 2][j + 1]\n",
    "        print(ans[i - 1][1 + j])"
   ]
  },
  {
   "cell_type": "code",
   "execution_count": 9,
   "metadata": {},
   "outputs": [
    {
     "name": "stdout",
     "output_type": "stream",
     "text": [
      "2\n",
      "3\n",
      "4\n",
      "5\n"
     ]
    }
   ],
   "source": [
    "ans = [2,3,4,5]\n",
    "for i in range(0, 4):\n",
    "    print(ans[i])"
   ]
  },
  {
   "cell_type": "code",
   "execution_count": 11,
   "metadata": {},
   "outputs": [],
   "source": [
    "'''\n",
    "当range第二个参数为负时，其实就不进入循环了\n",
    "'''\n",
    "ans = [2,3,4,5]\n",
    "for i in range(0, -1):\n",
    "    print(ans[i])"
   ]
  },
  {
   "cell_type": "code",
   "execution_count": null,
   "metadata": {},
   "outputs": [],
   "source": [
    "知识点：\n",
    "杨辉三角 帕斯卡三角"
   ]
  }
 ],
 "metadata": {
  "kernelspec": {
   "display_name": "Python 3",
   "language": "python",
   "name": "python3"
  },
  "language_info": {
   "codemirror_mode": {
    "name": "ipython",
    "version": 3
   },
   "file_extension": ".py",
   "mimetype": "text/x-python",
   "name": "python",
   "nbconvert_exporter": "python",
   "pygments_lexer": "ipython3",
   "version": "3.6.4"
  }
 },
 "nbformat": 4,
 "nbformat_minor": 2
}
