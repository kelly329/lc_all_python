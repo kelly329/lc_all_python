{
 "cells": [
  {
   "cell_type": "markdown",
   "metadata": {},
   "source": [
    "### [LeetCode]题解（python）：146-LRU Cache  "
   ]
  },
  {
   "cell_type": "markdown",
   "metadata": {},
   "source": [
    "### 题目来源：\n",
    "https://leetcode.com/problems/lru-cache/"
   ]
  },
  {
   "cell_type": "markdown",
   "metadata": {},
   "source": [
    "### 题意分析：\n",
    "请为LRU缓存设计一个数据结构。支持两种操作：get和set。\n",
    "\n",
    "get(key) - 如果key在缓存中，则返回key对应的值（保证是正的）；否则返回-1；\n",
    "set(key, value) - 如果key在缓存中，则更新key对应的值；否则插入(key, value)，如果缓存已满，则先删除上次使用时间最老的key。\n",
    "进一步：\n",
    "能否使用两个操作都是 O(1)O(1) 时间复杂度的算法？\n"
   ]
  },
  {
   "cell_type": "markdown",
   "metadata": {},
   "source": [
    "LRUCache cache = new LRUCache( 2 /* capacity */ );\n",
    "\n",
    "cache.put(1, 1);\n",
    "cache.put(2, 2);\n",
    "cache.get(1);       // 返回 1\n",
    "cache.put(3, 3);    // 删除 key 2\n",
    "cache.get(2);       // 返回 -1 (没找到)\n",
    "cache.put(4, 4);    // 删除 key 1\n",
    "cache.get(1);       // 返回 -1 (没找到)\n",
    "cache.get(3);       // 返回 3\n",
    "cache.get(4);       // 返回 4"
   ]
  },
  {
   "cell_type": "markdown",
   "metadata": {},
   "source": [
    "### 代码python："
   ]
  },
  {
   "cell_type": "code",
   "execution_count": 2,
   "metadata": {},
   "outputs": [],
   "source": [
    "\n",
    "\n",
    "class LRUCache:\n",
    "    class ListNode:\n",
    "        def __init__(self, key, val):\n",
    "            self.key = key\n",
    "            self.val = val\n",
    "            self.pre = None\n",
    "            self.next = None\n",
    "\n",
    "    def __init__(self, capacity: int):\n",
    "        self.capacity = capacity\n",
    "        self.size = 0\n",
    "        self.dicts = {}\n",
    "        self.head, self.tail = self.ListNode(0, 0), self.ListNode(0,0)\n",
    "        self.head.next = self.tail\n",
    "        self.tail.pre = self.head\n",
    "    \n",
    "\n",
    "    def deleteNode(self, node):\n",
    "        node.pre.next = node.next\n",
    "        node.next.pre = node.pre\n",
    "        node.pre, node.next = None, None\n",
    "    \n",
    "\n",
    "    def insertNode(self, node):\n",
    "        node.next = self.head.next\n",
    "        node.next.pre = node\n",
    "        node.pre = self.head\n",
    "        self.head.next = node\n",
    "\n",
    "\n",
    "    def get(self, key: int) -> int:\n",
    "        if key not in self.dicts:\n",
    "            return -1\n",
    "        \n",
    "        node = self.dicts[key]\n",
    "        self.deleteNode(node)\n",
    "        self.insertNode(node)\n",
    "        return node.val        \n",
    "\n",
    "    def put(self, key: int, value: int) -> None:\n",
    "        if key in self.dicts:\n",
    "            node = self.dicts[key]\n",
    "            node.val = value\n",
    "            self.deleteNode(node)\n",
    "            self.insertNode(node)\n",
    "        else:\n",
    "            if self.size == self.capacity:\n",
    "                lastnode = self.tail.pre\n",
    "                self.deleteNode(lastnode)\n",
    "                del self.dicts[lastnode.key]\n",
    "                self.size -= 1\n",
    "            node = self.ListNode(key, value)\n",
    "            self.insertNode(node)\n",
    "            self.dicts[key] = node\n",
    "            self.size += 1\n",
    "            \n",
    "                \n",
    "\n",
    "\n",
    "# Your LRUCache object will be instantiated and called as such:\n",
    "# obj = LRUCache(capacity)\n",
    "# param_1 = obj.get(key)\n",
    "# obj.put(key,value)"
   ]
  }
 ],
 "metadata": {
  "kernelspec": {
   "display_name": "Python 3",
   "language": "python",
   "name": "python3"
  },
  "language_info": {
   "codemirror_mode": {
    "name": "ipython",
    "version": 3
   },
   "file_extension": ".py",
   "mimetype": "text/x-python",
   "name": "python",
   "nbconvert_exporter": "python",
   "pygments_lexer": "ipython3",
   "version": "3.6.4"
  }
 },
 "nbformat": 4,
 "nbformat_minor": 2
}
