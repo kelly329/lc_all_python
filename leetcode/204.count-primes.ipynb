{
 "cells": [
  {
   "cell_type": "markdown",
   "metadata": {},
   "source": [
    "### [LeetCode]题解（Python）：204-Count Primes"
   ]
  },
  {
   "cell_type": "markdown",
   "metadata": {},
   "source": [
    "### 题目来源：\n",
    "https://leetcode.com/problems/count-primes/"
   ]
  },
  {
   "cell_type": "markdown",
   "metadata": {},
   "source": [
    "### 题意分析：\n",
    "返回不超过给定数值以内的素数个数。"
   ]
  },
  {
   "cell_type": "markdown",
   "metadata": {},
   "source": [
    "### 代码Python："
   ]
  },
  {
   "cell_type": "markdown",
   "metadata": {},
   "source": [
    "s[i : j : k]代表的意思是列表 s 中的第 i 个元素(包含), 到第 j 个元素(不包含)，每隔 k 个数取一个 形成的列表，即取[j , k)，\n",
    "步长为 k取出的列表子集。"
   ]
  },
  {
   "cell_type": "code",
   "execution_count": 3,
   "metadata": {},
   "outputs": [
    {
     "name": "stdout",
     "output_type": "stream",
     "text": [
      "[True, True, True, True, True, True, True, True, True, True, True, True]\n",
      "[False, False, True, True, False, True, False, True, False, True, False, True]\n",
      "[False, False, True, True, False, True, False, True, False, False, False, True]\n",
      "5\n"
     ]
    }
   ],
   "source": [
    "n = 12\n",
    "primes = [True] * n\n",
    "print(primes)\n",
    "primes[0] = primes[1] = False\n",
    "for i in range(2, int(n ** 0.5) + 1):\n",
    "    if primes[i]:\n",
    "        primes[i * i: n: i] = [False] * len(primes[i * i: n: i])\n",
    "    print(primes)\n",
    "print(sum(primes))"
   ]
  },
  {
   "cell_type": "code",
   "execution_count": null,
   "metadata": {},
   "outputs": [],
   "source": [
    "'''\n",
    "思路：埃拉托斯特尼筛法\n",
    "https://blog.csdn.net/github_39261590/article/details/73864039\n",
    "只需遍历[2,这里写图片描述],因为超过这里写图片描述部分如果不是素数，则作为因子在前面的数已经被删除了。\n",
    "同时这里利用了python里list的特性[::i]取i的倍数。\n",
    "\n",
    "'''\n",
    "class Solution(object):\n",
    "    def countPrimes(self, n):\n",
    "        \"\"\"\n",
    "        :type n: int\n",
    "        :rtype: int\n",
    "        \"\"\"\n",
    "        if n < 3:\n",
    "            return 0\n",
    "        primes = [True] * n\n",
    "        primes[0] = primes[1] = False\n",
    "        for i in range(2, int(n**0.5) + 1):\n",
    "            if primes[i]:\n",
    "                primes[i*i:n:i] = [False]*len( primes[i*i:n:i] )\n",
    "        return sum(primes)"
   ]
  }
 ],
 "metadata": {
  "kernelspec": {
   "display_name": "Python 3",
   "language": "python",
   "name": "python3"
  },
  "language_info": {
   "codemirror_mode": {
    "name": "ipython",
    "version": 3
   },
   "file_extension": ".py",
   "mimetype": "text/x-python",
   "name": "python",
   "nbconvert_exporter": "python",
   "pygments_lexer": "ipython3",
   "version": "3.6.4"
  }
 },
 "nbformat": 4,
 "nbformat_minor": 2
}
