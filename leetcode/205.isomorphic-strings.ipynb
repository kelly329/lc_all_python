{
 "cells": [
  {
   "cell_type": "markdown",
   "metadata": {},
   "source": [
    "### [LeetCode]题解（Python）：205- Isomorphic Strings"
   ]
  },
  {
   "cell_type": "markdown",
   "metadata": {},
   "source": [
    "### 题目来源：\n",
    "https://leetcode.com/problems/isomorphic-strings/"
   ]
  },
  {
   "cell_type": "markdown",
   "metadata": {},
   "source": [
    "### 题意分析：\n",
    "给定两个字符串，判断它们是否是同构的。如果一个字符串s中的字符可以替换成别的字符，从而得到另一个字符串t，那么两个字符串同构。 \n",
    "字符串中所有的一样的字符都要替换，并且要保持原顺序。两个不同的字符不能替换成相同的字符，一个字符可以替换成它自己。\n",
    "\n",
    "比如： \n",
    "给定 \"egg\", \"add\", 返回 true \n",
    "给定 \"foo\", \"bar\", 返回 false \n",
    "给定 \"paper\", \"title\", 返回 true\n",
    "\n",
    "注意：假设两个字符串s和t的长度相同。"
   ]
  },
  {
   "cell_type": "markdown",
   "metadata": {},
   "source": [
    "### 代码Python："
   ]
  },
  {
   "cell_type": "code",
   "execution_count": 1,
   "metadata": {},
   "outputs": [
    {
     "data": {
      "text/plain": [
       "{'a', 'e', 'p', 'r'}"
      ]
     },
     "execution_count": 1,
     "metadata": {},
     "output_type": "execute_result"
    }
   ],
   "source": [
    "set('paper')"
   ]
  },
  {
   "cell_type": "code",
   "execution_count": 2,
   "metadata": {},
   "outputs": [
    {
     "data": {
      "text/plain": [
       "{'e', 'i', 'l', 't'}"
      ]
     },
     "execution_count": 2,
     "metadata": {},
     "output_type": "execute_result"
    }
   ],
   "source": [
    "set('title')"
   ]
  },
  {
   "cell_type": "code",
   "execution_count": 4,
   "metadata": {},
   "outputs": [
    {
     "data": {
      "text/plain": [
       "{('a', 'i'), ('e', 'l'), ('p', 't'), ('r', 'e')}"
      ]
     },
     "execution_count": 4,
     "metadata": {},
     "output_type": "execute_result"
    }
   ],
   "source": [
    "set(zip('paper','title'))"
   ]
  },
  {
   "cell_type": "code",
   "execution_count": null,
   "metadata": {},
   "outputs": [],
   "source": [
    ">>>a = [1,2,3]\n",
    ">>> b = [4,5,6]\n",
    ">>> c = [4,5,6,7,8]\n",
    ">>> zipped = zip(a,b)     # 打包为元组的列表\n",
    "[(1, 4), (2, 5), (3, 6)]\n",
    ">>> zip(a,c)              # 元素个数与最短的列表一致\n",
    "[(1, 4), (2, 5), (3, 6)]"
   ]
  },
  {
   "cell_type": "code",
   "execution_count": 6,
   "metadata": {},
   "outputs": [
    {
     "name": "stdout",
     "output_type": "stream",
     "text": [
      "dict查找元素在不在是可以直接通过key的\n",
      "dict查找在不在其实查找的是key对应的值在不在\n"
     ]
    }
   ],
   "source": [
    "dict = {\"a\" : \"apple\", \"b\" : \"banana\", \"g\" : \"grape\", \"o\" : \"orange\"}\n",
    "if \"a\" in dict:\n",
    "    print(\"dict查找元素在不在是可以直接通过key的\")\n",
    "else:\n",
    "    print(\"dict查找在不在其实查找的是key对应的值在不在\")\n",
    "if \"orange\" in dict:\n",
    "    print(\"dict查找元素在不在是可以直接通过key的\")\n",
    "else:\n",
    "    print(\"dict查找在不在其实查找的是key对应的值在不在\")"
   ]
  },
  {
   "cell_type": "code",
   "execution_count": null,
   "metadata": {},
   "outputs": [],
   "source": [
    "'''\n",
    "思路一：根据题目描述的映射要求，s有多少种不同的字符，t也有多少种不同的字符。\n",
    "如果我们将映射写成字符对的形式，比如 (‘a’,’c’) 表示s中字符’a’映射到t中’c’，那么映射的个数与s中字符的种类数相同。 \n",
    "用Python的内置函数zip，也可以一行实现判断同构。\n",
    "42ms 超过99.74%\n",
    "http://www.codexiu.cn/python/blog/22698/\n",
    "'''\n",
    "class Solution(object):\n",
    "    def isIsomorphic(self, s, t):\n",
    "        \"\"\"\n",
    "        :type s: str\n",
    "        :type t: str\n",
    "        :rtype: bool\n",
    "        \"\"\"\n",
    "        return len(set(zip(s,t))) == len(set(s)) == len(set(t))\n",
    "        "
   ]
  },
  {
   "cell_type": "code",
   "execution_count": null,
   "metadata": {},
   "outputs": [],
   "source": [
    "'''\n",
    "思路二：比思路一快\n",
    "为了避免在最后对hashmap中的值做“是否有重复”的判断，在遍历s和t的时候将已经经过映射的值保存在mapval这个dict中，\n",
    "这样在中途发现重复时也可以及时返回false。\n",
    "'''\n",
    "class Solution(object):\n",
    "    def isIsomorphic(self, s, t):\n",
    "        \"\"\"\n",
    "        :type s: str\n",
    "        :type t: str\n",
    "        :rtype: bool\n",
    "        \"\"\"\n",
    "        hashmap = {}\n",
    "        myval = {}\n",
    "        \n",
    "        for i in range(len(s)):\n",
    "            if s[i] in hashmap:\n",
    "                if hashmap[s[i]] != t[i]:\n",
    "                    return False\n",
    "            elif t[i] in myval:\n",
    "                return False\n",
    "            else:\n",
    "                hashmap[s[i]] = t[i]\n",
    "                myval[t[i]] = True\n",
    "        return True"
   ]
  }
 ],
 "metadata": {
  "kernelspec": {
   "display_name": "Python 3",
   "language": "python",
   "name": "python3"
  },
  "language_info": {
   "codemirror_mode": {
    "name": "ipython",
    "version": 3
   },
   "file_extension": ".py",
   "mimetype": "text/x-python",
   "name": "python",
   "nbconvert_exporter": "python",
   "pygments_lexer": "ipython3",
   "version": "3.6.4"
  }
 },
 "nbformat": 4,
 "nbformat_minor": 2
}
