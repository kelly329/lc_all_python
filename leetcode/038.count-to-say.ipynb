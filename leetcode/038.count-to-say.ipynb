{
 "cells": [
  {
   "cell_type": "markdown",
   "metadata": {},
   "source": [
    "### [LeetCode]题解（python）：038-Count to Say"
   ]
  },
  {
   "cell_type": "markdown",
   "metadata": {},
   "source": [
    "### 题目来源：\n",
    "https://leetcode.com/problems/count-to-say/"
   ]
  },
  {
   "cell_type": "markdown",
   "metadata": {},
   "source": [
    "### 题意分析：\n",
    "1. n = 1时，输出字符串 1\n",
    "2. n = 2时，输出字符串 11     上一个字符串有1个1\n",
    "3. n = 3时，输出字符串 21     上一个字符串有2个1\n",
    "4. n = 4时，输出字符串 1211   上一个字符串1个2，1个1\n",
    "5. n = 5时，输出字符串 111221 上一个字符串 1个1 1个2 2个1\n",
    "6. n=5时看n=4时的最后的两个1，思考为什么不和n=4时第一个1一样，一个一个读呢，最后明白是连着相等才可以\n",
    "7. 所以 n = 6时， 312211  \n",
    "###### 总体规律：后一个字符串是前一个字符串每个连续出现的数字的个数＋该数字拼凑而成"
   ]
  },
  {
   "cell_type": "markdown",
   "metadata": {},
   "source": [
    "### 代码python："
   ]
  },
  {
   "cell_type": "code",
   "execution_count": null,
   "metadata": {},
   "outputs": [],
   "source": [
    "'''\n",
    "思路一：\n",
    "'''\n",
    "class Solution(object):\n",
    "    def countAndSay(self, n):\n",
    "        \"\"\"\n",
    "        :type n: int\n",
    "        :rtype: str\n",
    "        \"\"\"\n",
    "        ans = \"1\"\n",
    "        n -= 1\n",
    "        while n > 0:\n",
    "            # 每次完成一个字符串的循环后，就为“”，所以在完成一次赋值给ans后再次变为“”\n",
    "            res = \"\"\n",
    "            # 当前遍历的字符的值\n",
    "            pre = ans[0]\n",
    "            count = 1\n",
    "            for i range(1, len(ans)):\n",
    "                if pre == ans[i]:\n",
    "                    count += 1\n",
    "                else:\n",
    "                    res += str(count) + pre\n",
    "                    pre = ans[i]\n",
    "                    count = 1\n",
    "            res += str(count) + pre\n",
    "            ans = res\n",
    "            n -= 1\n",
    "        return ans"
   ]
  },
  {
   "cell_type": "markdown",
   "metadata": {},
   "source": [
    "### 知识点\n",
    "\n",
    "对自己来说，这次学到的这几个参数的假设，每一个参数的作用，很棒呢，值得学习！"
   ]
  }
 ],
 "metadata": {
  "kernelspec": {
   "display_name": "Python 3",
   "language": "python",
   "name": "python3"
  },
  "language_info": {
   "codemirror_mode": {
    "name": "ipython",
    "version": 3
   },
   "file_extension": ".py",
   "mimetype": "text/x-python",
   "name": "python",
   "nbconvert_exporter": "python",
   "pygments_lexer": "ipython3",
   "version": "3.6.4"
  }
 },
 "nbformat": 4,
 "nbformat_minor": 2
}
