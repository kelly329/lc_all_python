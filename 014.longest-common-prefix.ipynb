{
 "cells": [
  {
   "cell_type": "markdown",
   "metadata": {},
   "source": [
    "### [LeetCode]题解（python）：014-Longest Common Prefix"
   ]
  },
  {
   "cell_type": "markdown",
   "metadata": {},
   "source": [
    "### 题目来源：\n",
    "https://leetcode.com/problems/longest-common-prefix/"
   ]
  },
  {
   "cell_type": "markdown",
   "metadata": {},
   "source": [
    "### 题意分析：\n",
    "写个函数，找出字符串数组中所有字符串的最长公共前缀\n",
    "1. {“a”,”a”,”b”} 返回 “” ，因为三个字符串没有公共前缀；\n",
    "2. {“a”, “a”} 返回 “a” 因为它是两个字符串的公共前缀；\n",
    "3. {“abca”, “abc”} 返回 “abc”；\n",
    "4. {“ac”, “ac”, “a”, “a”} 返回 “a”"
   ]
  },
  {
   "cell_type": "markdown",
   "metadata": {},
   "source": [
    "### 解题思路：\n",
    "1. 首先判断字符串数组是否为空，为空返回“”，否则进行后续步骤\n",
    "2. 使用第一个字符串为比较对象，若不为第一个字符串则取对应字符串的对应位置比较是否与第一个字符串相等即可，不相等跳出循环，\n",
    "   相等且j不为最后一个字符串，直接进入下一个字符串对应位置的比较。\n",
    "3. 如果为最后一个字符串，则进入第一个字符串的下一个位置进行，再次循环比较。"
   ]
  },
  {
   "cell_type": "markdown",
   "metadata": {},
   "source": [
    "### 代码python："
   ]
  },
  {
   "cell_type": "code",
   "execution_count": 1,
   "metadata": {},
   "outputs": [],
   "source": [
    "class Solution(object):\n",
    "    def longestCommonPrefix(self, strs):\n",
    "        \"\"\"\n",
    "        :type strs: List[str]\n",
    "        :rtype: str\n",
    "        \"\"\"\n",
    "        if len(strs) == 0:\n",
    "            return \"\"\n",
    "        i = 0\n",
    "        j = 0\n",
    "        end = 0\n",
    "        while j < len(strs) and i < len(strs[j]):\n",
    "            if j == 0:\n",
    "                char = strs[j][i]\n",
    "            else:\n",
    "                if strs[j][i] != char:\n",
    "                    break;\n",
    "            \n",
    "            if j == len(strs) - 1:\n",
    "                i += 1\n",
    "                j = 0\n",
    "                end += 1\n",
    "            else:\n",
    "                j += 1\n",
    "                \n",
    "        return strs[j][:end]"
   ]
  }
 ],
 "metadata": {
  "kernelspec": {
   "display_name": "Python 3",
   "language": "python",
   "name": "python3"
  },
  "language_info": {
   "codemirror_mode": {
    "name": "ipython",
    "version": 3
   },
   "file_extension": ".py",
   "mimetype": "text/x-python",
   "name": "python",
   "nbconvert_exporter": "python",
   "pygments_lexer": "ipython3",
   "version": "3.6.4"
  }
 },
 "nbformat": 4,
 "nbformat_minor": 2
}
