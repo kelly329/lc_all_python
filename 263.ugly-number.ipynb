{
 "cells": [
  {
   "cell_type": "markdown",
   "metadata": {},
   "source": [
    "### [LeetCode]题解（Python）：263-Ugly Number"
   ]
  },
  {
   "cell_type": "markdown",
   "metadata": {},
   "source": [
    "### 题目来源：\n",
    "https://leetcode.com/problems/ugly-number/"
   ]
  },
  {
   "cell_type": "markdown",
   "metadata": {},
   "source": [
    "### 题意分析：\n",
    "编程判断一个给定的数是否是“ugly number”。\n",
    "\n",
    "所谓“ugly number”是指质因数仅包含在 2，3，5 中的正数。比如，6和8都是“ugly number”，而14不是，因为14包含7这个质因数。\n",
    "\n",
    "注意，1 也被认为是”ugly number”。"
   ]
  },
  {
   "cell_type": "markdown",
   "metadata": {},
   "source": [
    "### 代码Python："
   ]
  },
  {
   "cell_type": "code",
   "execution_count": null,
   "metadata": {},
   "outputs": [],
   "source": [
    "'''\n",
    "思路一：根据定义，依次将所给的数除以2，3，5 直至无法除尽，如果最后结果得到1说明所给的数的质因子不超过2，3，5 否则说明有其他质因子。\n",
    "'''\n",
    "class Solution(object):\n",
    "    def isUgly(self, num):\n",
    "        \"\"\"\n",
    "        :type num: int\n",
    "        :rtype: bool\n",
    "        \"\"\"\n",
    "        if num <= 0:\n",
    "            return False\n",
    "        while num % 2 == 0 or num % 3 == 0 or num % 5 == 0:\n",
    "            if num % 2 == 0:\n",
    "                num /= 2\n",
    "            if num % 3 == 0:\n",
    "                num /= 3\n",
    "            if num % 5 == 0:\n",
    "                num /= 5\n",
    "        if num == 1:\n",
    "            return True\n",
    "        return False"
   ]
  },
  {
   "cell_type": "code",
   "execution_count": null,
   "metadata": {},
   "outputs": [],
   "source": [
    "'''\n",
    "思路二：思路一的简单写法\n",
    "'''\n",
    "class Solution(object):\n",
    "    def isUgly(self, num):\n",
    "        \"\"\"\n",
    "        :type num: int\n",
    "        :rtype: bool\n",
    "        \"\"\"\n",
    "        if num <= 0:\n",
    "            return False\n",
    "        for i in [2, 3, 5]:\n",
    "            while num % i == 0:\n",
    "                num = num / i\n",
    "        return True if num == 1 else False"
   ]
  }
 ],
 "metadata": {
  "kernelspec": {
   "display_name": "Python 3",
   "language": "python",
   "name": "python3"
  },
  "language_info": {
   "codemirror_mode": {
    "name": "ipython",
    "version": 3
   },
   "file_extension": ".py",
   "mimetype": "text/x-python",
   "name": "python",
   "nbconvert_exporter": "python",
   "pygments_lexer": "ipython3",
   "version": "3.6.4"
  }
 },
 "nbformat": 4,
 "nbformat_minor": 2
}
