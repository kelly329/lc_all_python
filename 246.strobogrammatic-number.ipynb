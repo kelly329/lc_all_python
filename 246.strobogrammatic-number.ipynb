{
 "cells": [
  {
   "cell_type": "markdown",
   "metadata": {},
   "source": [
    "### [LeetCode]题解（Python）：246-Strobogrammatic Number"
   ]
  },
  {
   "cell_type": "markdown",
   "metadata": {},
   "source": [
    "### 题目来源：\n",
    "https://leetcode.com/problems/strobogrammatic-number/"
   ]
  },
  {
   "cell_type": "markdown",
   "metadata": {},
   "source": [
    "### 题意分析：\n",
    "定义一种对称数，一个数字旋转180度和原来一样，即倒过来看和正着看是一样的。如：609\n",
    "满足这种条件的数字其实只有：0 1 8 6 9\n",
    "可用双指针来检测：首尾两个数字如果相等的话，那么只有它们是0,1,8中间的一个才行，如果它们不相等的话，必须一个是6一个是9，或者一个是9一个是6，其他所有情况均返回false"
   ]
  },
  {
   "cell_type": "markdown",
   "metadata": {},
   "source": [
    "### 代码Python："
   ]
  },
  {
   "cell_type": "code",
   "execution_count": null,
   "metadata": {},
   "outputs": [],
   "source": [
    "'''\n",
    "思路：可用双指针来检测：首尾两个数字如果相等的话，那么只有它们是0,1,8中间的一个才行，\n",
    "如果它们不相等的话，必须一个是6一个是9，或者一个是9一个是6，其他所有情况均返回false\n",
    "'''\n",
    "class Solution(object):\n",
    "    def isStrobogrammatic(self, num):\n",
    "        \"\"\"\n",
    "        :type num: str\n",
    "        :rtype: bool\n",
    "        \"\"\"\n",
    "        start, end, legal = 0, len(num) - 1, \"01689\"\n",
    "        while start <= end:\n",
    "            if \"\".join(sorted(num[start] + num[end])) not in [\"00\",\"11\",\"88\",\"69\"]:\n",
    "                return False\n",
    "            start += 1\n",
    "            end -= 1\n",
    "        return True"
   ]
  },
  {
   "cell_type": "code",
   "execution_count": 3,
   "metadata": {},
   "outputs": [
    {
     "name": "stdout",
     "output_type": "stream",
     "text": [
      "['8', '9']\n",
      "89\n"
     ]
    }
   ],
   "source": [
    "num = \"81019\"\n",
    "start, end, legal = 0, len(num) - 1, \"01689\"\n",
    "while start <= end:\n",
    "    if \"\".join(sorted(num[start] + num[end])) not in [\"00\",\"11\",\"88\",\"69\"]:\n",
    "        print(sorted(num[start] + num[end]))\n",
    "        print(\"\".join(sorted(num[start] + num[end])))\n",
    "    start += 1\n",
    "    end -= 1"
   ]
  },
  {
   "cell_type": "markdown",
   "metadata": {},
   "source": [
    "### 知识学习\n",
    "- join()方法语法：str.join(sequence)"
   ]
  },
  {
   "cell_type": "code",
   "execution_count": 1,
   "metadata": {},
   "outputs": [
    {
     "name": "stdout",
     "output_type": "stream",
     "text": [
      "r-u-n-o-o-b\n",
      "runoob\n"
     ]
    }
   ],
   "source": [
    "s1 = \"-\"\n",
    "s2 = \"\"\n",
    "seq = (\"r\", \"u\", \"n\", \"o\", \"o\", \"b\") # 字符串序列\n",
    "print (s1.join( seq ))\n",
    "print (s2.join( seq ))"
   ]
  }
 ],
 "metadata": {
  "kernelspec": {
   "display_name": "Python 3",
   "language": "python",
   "name": "python3"
  },
  "language_info": {
   "codemirror_mode": {
    "name": "ipython",
    "version": 3
   },
   "file_extension": ".py",
   "mimetype": "text/x-python",
   "name": "python",
   "nbconvert_exporter": "python",
   "pygments_lexer": "ipython3",
   "version": "3.6.4"
  }
 },
 "nbformat": 4,
 "nbformat_minor": 2
}
