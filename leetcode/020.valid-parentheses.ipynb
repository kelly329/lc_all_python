{
 "cells": [
  {
   "cell_type": "markdown",
   "metadata": {},
   "source": [
    "### [LeetCode]题解（python）：020-Valid Parentheses "
   ]
  },
  {
   "cell_type": "markdown",
   "metadata": {},
   "source": [
    "### 题目来源：\n",
    "https://leetcode.com/problems/valid-parentheses/"
   ]
  },
  {
   "cell_type": "markdown",
   "metadata": {},
   "source": [
    "### 题意分析：\n",
    "输入一段只包含括号的字符串，判断字符串中的括号是否匹配"
   ]
  },
  {
   "cell_type": "markdown",
   "metadata": {},
   "source": [
    "### 解题思路：\n",
    "使用栈的数据结构实现。python中list可以当作栈使用，如果遇到做括号，就将此字符入栈，若遇到右括号，将stack的队尾元素pop出，比较是否匹配，如果可以继续，如果不可以返回False。\n",
    "对于判断是左括号，还是右括号，使用dict进行判断，在dict中key是右括号value是相匹配的做括号。note：在判断元素在不在dict中时，判断的是key存不存在。"
   ]
  },
  {
   "cell_type": "markdown",
   "metadata": {},
   "source": [
    "### 代码python："
   ]
  },
  {
   "cell_type": "code",
   "execution_count": null,
   "metadata": {},
   "outputs": [],
   "source": [
    "'''\n",
    "用栈来操作，将所有字符串依次入栈，当栈顶元素与正要入栈的元素括号相匹配时，pop栈顶元素且不入栈，否则入栈新元素；\n",
    "最后当栈里没有括号时，表明成功匹配\n",
    "'''\n",
    "class Solution(object):\n",
    "    def isValid(self, s):\n",
    "        \"\"\"\n",
    "        :type s: str\n",
    "        :rtype: bool\n",
    "        \"\"\"\n",
    "        stack = [None]  #长度为1\n",
    "        param = {')':'(','}':'{',']':'['}\n",
    "        for ch in s:\n",
    "            if ch in param and stack[len(s)-1]==param[ch]:\n",
    "                stack.pop()\n",
    "            else:\n",
    "                stack.append(ch)\n",
    "        return len(stack) == 1"
   ]
  },
  {
   "cell_type": "code",
   "execution_count": 1,
   "metadata": {},
   "outputs": [],
   "source": [
    "'''\n",
    "通过观察可以发现：如果正要入栈的元素与栈顶元素不是匹配括号时，那么输入的字符串一定无效。\n",
    "这种处理方式可以加快判断速度\n",
    "'''\n",
    "class Solution(object):\n",
    "    def isValid(self, s):\n",
    "        \"\"\"\n",
    "        :type s: str\n",
    "        :rtype: bool\n",
    "        \"\"\"\n",
    "        stack = [None]  #长度为1\n",
    "        param = {')':'(','}':'{',']':'['}\n",
    "        for ch in s:\n",
    "            if ch in param:\n",
    "                if param[ch] != stack.pop():\n",
    "                    return False\n",
    "            else:\n",
    "                stack.append(ch)\n",
    "        return len(stack) == 1\n",
    "                \n",
    "'''\n",
    "Note:在使用stack=[] return len(stack)==0时会出错，假设在最后一个之前，前面的都已经匹配，会出现最后一个括号为右括号的话，如果stack[None]\n",
    "是可以pop出none，这样可以判断不匹配，如果stack=[] 是不能pop出东西，无法进行判断。\n",
    "如果是只剩左括号，则入栈，这时长度就不为1，为2，所以仍可以解决问题\n",
    "'''    "
   ]
  },
  {
   "cell_type": "markdown",
   "metadata": {},
   "source": [
    "知识学习：dict判断元素是否存在，stack=[None] stack=[]"
   ]
  }
 ],
 "metadata": {
  "kernelspec": {
   "display_name": "Python 3",
   "language": "python",
   "name": "python3"
  },
  "language_info": {
   "codemirror_mode": {
    "name": "ipython",
    "version": 3
   },
   "file_extension": ".py",
   "mimetype": "text/x-python",
   "name": "python",
   "nbconvert_exporter": "python",
   "pygments_lexer": "ipython3",
   "version": "3.6.4"
  }
 },
 "nbformat": 4,
 "nbformat_minor": 2
}
