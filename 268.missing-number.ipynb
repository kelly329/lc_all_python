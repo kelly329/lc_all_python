{
 "cells": [
  {
   "cell_type": "markdown",
   "metadata": {},
   "source": [
    "### [LeetCode]题解（Python）：268-Word Pattern"
   ]
  },
  {
   "cell_type": "markdown",
   "metadata": {},
   "source": [
    "### 题目来源：\n",
    "https://leetcode.com/problems/missing-number/"
   ]
  },
  {
   "cell_type": "markdown",
   "metadata": {},
   "source": [
    "### 题意分析：\n",
    "给定一个包含从0，1，2，...,n选出的n个不同数字的数组，从中找出数组中缺少哪一个数字。\n",
    "例如，\n",
    "给定 nums = [0, 1, 3] 返回2。\n",
    "注意：\n",
    "你的算法应该满足线性时间复杂度。你可以只使用常数空间复杂度完成此题吗？"
   ]
  },
  {
   "cell_type": "markdown",
   "metadata": {},
   "source": [
    "### 代码Python："
   ]
  },
  {
   "cell_type": "code",
   "execution_count": null,
   "metadata": {},
   "outputs": [],
   "source": [
    "'''\n",
    "思路一：等差数列前n项和-数组之和\n",
    "'''\n",
    "class Solution(object):\n",
    "    def missingNumber(self, nums):\n",
    "        \"\"\"\n",
    "        :type nums: List[int]\n",
    "        :rtype: int\n",
    "        \"\"\"\n",
    "        n = len(nums)\n",
    "        return n*(n+1)/2 - sum(nums)\n",
    "        "
   ]
  },
  {
   "cell_type": "code",
   "execution_count": null,
   "metadata": {},
   "outputs": [],
   "source": [
    "'''\n",
    "思路二：位运算（异或运算）\n",
    "异或的运算方法是一个二进制运算：\n",
    "1^1=0\n",
    "0^0=0\n",
    "1^0=1\n",
    "0^1=1\n",
    "两者相等为0,不等为1.\n",
    "https://blog.csdn.net/u014251967/article/details/52473505\n",
    "'''\n",
    "class Solution(object):\n",
    "    def missingNumber(self, nums):\n",
    "        \"\"\"\n",
    "        :type nums: List[int]\n",
    "        :rtype: int\n",
    "        \"\"\"\n",
    "        res = len(nums)\n",
    "        for i in range res:\n",
    "            res^=(i^nums[i])\n",
    "        return res\n",
    "        "
   ]
  },
  {
   "cell_type": "code",
   "execution_count": null,
   "metadata": {},
   "outputs": [],
   "source": [
    "知识点总结：\n",
    "a^0=a \n",
    "a^b^a=b \n",
    "最初设置返回值res是nums的长度，目标值i^现有值nums[i]，那么如果i和nums[i]是相同的，异或的结果就是0，\n",
    "再让res^该结果，那么res仍等于res，这样说明i这个数是存在的，也就是说所有相同的数都被变成了0，剩下的就是缺失的数\n",
    "由此可见：异或运算"
   ]
  }
 ],
 "metadata": {
  "kernelspec": {
   "display_name": "Python 3",
   "language": "python",
   "name": "python3"
  },
  "language_info": {
   "codemirror_mode": {
    "name": "ipython",
    "version": 3
   },
   "file_extension": ".py",
   "mimetype": "text/x-python",
   "name": "python",
   "nbconvert_exporter": "python",
   "pygments_lexer": "ipython3",
   "version": "3.6.4"
  }
 },
 "nbformat": 4,
 "nbformat_minor": 2
}
