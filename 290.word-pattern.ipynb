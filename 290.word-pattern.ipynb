{
 "cells": [
  {
   "cell_type": "markdown",
   "metadata": {},
   "source": [
    "### [LeetCode]题解（Python）：290-Word Pattern"
   ]
  },
  {
   "cell_type": "markdown",
   "metadata": {},
   "source": [
    "### 题目来源：\n",
    "https://leetcode.com/problems/word-pattern/"
   ]
  },
  {
   "cell_type": "markdown",
   "metadata": {},
   "source": [
    "### 题意分析：\n",
    "给定一个模式（pattern）和一个字符串（str），判断字符串是否匹配该模式。这里匹配指的是完全匹配，是pattern中的字符和str中的非空单词之间的双射。 \n",
    "与题目205相似"
   ]
  },
  {
   "cell_type": "markdown",
   "metadata": {},
   "source": [
    "### 代码Python："
   ]
  },
  {
   "cell_type": "code",
   "execution_count": null,
   "metadata": {},
   "outputs": [],
   "source": [
    "'''\n",
    "思路：根据题目的描述，pattern有多少种不同的字符，str也有多少种不同的word。如果我们将映射写成字符对的形式，\n",
    "比如 (‘a’,’dog’) 表示pattern中字符’a’映射到str中’dog’，那么映射的个数与pattern中字符的种类数相同。 \n",
    "所以该方法本质上也是判断映射是不是双射。\n",
    "'''\n",
    "class Solution(object):\n",
    "    def wordPattern(self, pattern, str):\n",
    "        \"\"\"\n",
    "        :type pattern: str\n",
    "        :type str: str\n",
    "        :rtype: bool\n",
    "        \"\"\"\n",
    "        words = str.split()\n",
    "        if len(words) != len(pattern):\n",
    "            return False\n",
    "        return len(set(words)) == len(set(pattern)) == len(set(zip(words, pattern)))\n",
    "        "
   ]
  }
 ],
 "metadata": {
  "kernelspec": {
   "display_name": "Python 3",
   "language": "python",
   "name": "python3"
  },
  "language_info": {
   "codemirror_mode": {
    "name": "ipython",
    "version": 3
   },
   "file_extension": ".py",
   "mimetype": "text/x-python",
   "name": "python",
   "nbconvert_exporter": "python",
   "pygments_lexer": "ipython3",
   "version": "3.6.4"
  }
 },
 "nbformat": 4,
 "nbformat_minor": 2
}
