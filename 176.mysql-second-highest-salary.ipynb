{
 "cells": [
  {
   "cell_type": "markdown",
   "metadata": {},
   "source": [
    "### [LeetCode]题解（MySQL）：176- Second Highest Salary"
   ]
  },
  {
   "cell_type": "markdown",
   "metadata": {},
   "source": [
    "### 题目来源：\n",
    "https://leetcode.com/problems/second-highest-salary/description/"
   ]
  },
  {
   "cell_type": "markdown",
   "metadata": {},
   "source": [
    "### 题意分析：\n",
    "返回数据表中第二高的薪资"
   ]
  },
  {
   "cell_type": "markdown",
   "metadata": {},
   "source": [
    "### MySQL："
   ]
  },
  {
   "cell_type": "code",
   "execution_count": 1,
   "metadata": {},
   "outputs": [],
   "source": [
    "'''\n",
    "思路：使用max函数找出最大值，逻辑值取出不包含最大值之外的最大值，即为第二最大值\n",
    "'''\n",
    "SELECT MAX(Salary) FROM Employee \n",
    "WHERE Salary NOT IN\n",
    "(SELECT MAX(Salary) FROM Employee);\n",
    "\n",
    "'''\n",
    "思路：使用max函数找出最大值，逻辑值取出不包含最大值之外的最大值，即为第二最大值 使用‘<’即可\n",
    "'''\n",
    "SELECT MAX(Salary) FROM Employee \n",
    "WHERE Salary < \n",
    "(SELECT MAX(Salary) FROM Employee);"
   ]
  },
  {
   "cell_type": "code",
   "execution_count": null,
   "metadata": {},
   "outputs": [],
   "source": [
    "'''\n",
    "思路：使用limit关键字\n",
    "mysql提供有distinct这个关键字来过滤掉多余的重复记录只保留一条。\n",
    "'''\n",
    "SELECT (SELECT DISTINCT Salary SecondHighestSalary FROM Employee ORDER BY Salary DESC LIMIT 1,1) SecondHighestSalary"
   ]
  }
 ],
 "metadata": {
  "kernelspec": {
   "display_name": "Python 3",
   "language": "python",
   "name": "python3"
  },
  "language_info": {
   "codemirror_mode": {
    "name": "ipython",
    "version": 3
   },
   "file_extension": ".py",
   "mimetype": "text/x-python",
   "name": "python",
   "nbconvert_exporter": "python",
   "pygments_lexer": "ipython3",
   "version": "3.6.4"
  }
 },
 "nbformat": 4,
 "nbformat_minor": 2
}
