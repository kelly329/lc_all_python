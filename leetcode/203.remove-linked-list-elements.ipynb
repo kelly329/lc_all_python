{
 "cells": [
  {
   "cell_type": "markdown",
   "metadata": {},
   "source": [
    "### [LeetCode]题解（Python）：203-Remove Linked List Elements"
   ]
  },
  {
   "cell_type": "markdown",
   "metadata": {},
   "source": [
    "### 题目来源：\n",
    "https://leetcode.com/problems/remove-linked-list-elements/"
   ]
  },
  {
   "cell_type": "markdown",
   "metadata": {},
   "source": [
    "### 题意分析：\n",
    "删除单链表中值为给定的val的节点。比如：给定链表 1 –> 2 –> 6 –> 3 –> 4 –> 5 –> 6 和值 val = 6 ，返回 1 –> 2 –> 3 –> 4 –> 5 。"
   ]
  },
  {
   "cell_type": "markdown",
   "metadata": {},
   "source": [
    "### 代码Python："
   ]
  },
  {
   "cell_type": "code",
   "execution_count": null,
   "metadata": {},
   "outputs": [],
   "source": [
    "'''\n",
    "思路一：遍历所有节点，同时保留每个节点的上一个节点，当遇到节点值是val时，删除该节点。为了方便操作，定义了一个伪头节点。\n",
    "'''\n",
    "# Definition for singly-linked list.\n",
    "# class ListNode(object):\n",
    "#     def __init__(self, x):\n",
    "#         self.val = x\n",
    "#         self.next = None\n",
    "\n",
    "class Solution(object):\n",
    "    def removeElements(self, head, val):\n",
    "        \"\"\"\n",
    "        :type head: ListNode\n",
    "        :type val: int\n",
    "        :rtype: ListNode\n",
    "        \"\"\"\n",
    "        new_head = pre = ListNode(0)\n",
    "        pre.next = head\n",
    "        while head:\n",
    "            if head.val == val:\n",
    "                pre.next = head.next\n",
    "            else:\n",
    "                pre = pre.next\n",
    "            head = head.next\n",
    "        return new_head.next\n",
    "        \n",
    "        "
   ]
  },
  {
   "cell_type": "code",
   "execution_count": null,
   "metadata": {},
   "outputs": [],
   "source": [
    "'''\n",
    "思路二：题目没有要求不改变节点的值，那么可以定义快慢两个指针，在快指针遍历链表的时候，将不等于val值的节点的值赋给慢指针指向的节点。\n",
    "快很多比思路一\n",
    "'''\n",
    "# Definition for singly-linked list.\n",
    "# class ListNode(object):\n",
    "#     def __init__(self, x):\n",
    "#         self.val = x\n",
    "#         self.next = None\n",
    "\n",
    "class Solution(object):\n",
    "    def removeElements(self, head, val):\n",
    "        \"\"\"\n",
    "        :type head: ListNode\n",
    "        :type val: int\n",
    "        :rtype: ListNode\n",
    "        \"\"\"\n",
    "        new_head = ListNode(0)\n",
    "        new_head.next = head\n",
    "        slow, fast = new_head, head\n",
    "        while fast:\n",
    "            if fast.val != val:\n",
    "                slow.next.val = fast.val\n",
    "                slow = slow.next\n",
    "            fast = fast.next\n",
    "        slow.next = None\n",
    "        return new_head.next"
   ]
  }
 ],
 "metadata": {
  "kernelspec": {
   "display_name": "Python 3",
   "language": "python",
   "name": "python3"
  },
  "language_info": {
   "codemirror_mode": {
    "name": "ipython",
    "version": 3
   },
   "file_extension": ".py",
   "mimetype": "text/x-python",
   "name": "python",
   "nbconvert_exporter": "python",
   "pygments_lexer": "ipython3",
   "version": "3.6.4"
  }
 },
 "nbformat": 4,
 "nbformat_minor": 2
}
