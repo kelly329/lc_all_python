{
 "cells": [
  {
   "cell_type": "markdown",
   "metadata": {},
   "source": [
    "### [LeetCode]题解（python）：101-Symmetric Tree"
   ]
  },
  {
   "cell_type": "markdown",
   "metadata": {},
   "source": [
    "### 题目来源：\n",
    "https://leetcode.com/problems/symmetric-tree/"
   ]
  },
  {
   "cell_type": "markdown",
   "metadata": {},
   "source": [
    "### 题意分析：\n",
    "给定一个二叉树，判断是否是自己的镜像（中心对称）"
   ]
  },
  {
   "cell_type": "markdown",
   "metadata": {},
   "source": [
    "### 代码python："
   ]
  },
  {
   "cell_type": "code",
   "execution_count": null,
   "metadata": {},
   "outputs": [],
   "source": [
    "'''\n",
    "思路一：递归。对于每一个节点，检查树的左右节点值是否相等，\n",
    "同时判断，左节点的左孩子和右子树的右孩子是否对称，右子树的左孩子和左子树的右孩子是否对称\n",
    "'''\n",
    "# Definition for a binary tree node.\n",
    "# class TreeNode(object):\n",
    "#     def __init__(self, x):\n",
    "#         self.val = x\n",
    "#         self.left = None\n",
    "#         self.right = None\n",
    "\n",
    "class Solution(object):\n",
    "    def isSymmetric(self, root):\n",
    "        \"\"\"\n",
    "        :type root: TreeNode\n",
    "        :rtype: bool\n",
    "        \"\"\"\n",
    "        if not root:\n",
    "            return True\n",
    "        self.mirror(root.left, root.right)\n",
    "        \n",
    "    def mirror(self, left, right):\n",
    "        if not left or not right:\n",
    "            return left == right\n",
    "        if left.val != right.val:\n",
    "            return False\n",
    "        return self.mirror(left.right, right.left) and self.mirror(left.left,right.right)"
   ]
  },
  {
   "cell_type": "code",
   "execution_count": null,
   "metadata": {},
   "outputs": [],
   "source": [
    "'''\n",
    "思路二：非递归算法实现。深度优先搜索  DFS https://blog.csdn.net/coder_orz/article/details/51579528\n",
    "'''\n",
    "# Definition for a binary tree node.\n",
    "# class TreeNode(object):\n",
    "#     def __init__(self, x):\n",
    "#         self.val = x\n",
    "#         self.left = None\n",
    "#         self.right = None\n",
    "class Solution(object):\n",
    "    def isSameTree(self, p, q):\n",
    "        \"\"\"\n",
    "        :type p: TreeNode\n",
    "        :type q: TreeNode\n",
    "        :rtype: bool\n",
    "        \"\"\"\n",
    "        stackl, stackr = [root.left],[root.right]\n",
    "        while len(satckl) > 0 and len(stackr) > 0:\n",
    "            left = stack1.pop()\n",
    "            right = stackr.pop()\n",
    "            if left == None and right == None:\n",
    "                continue \n",
    "            if left == None or left == None:\n",
    "                return False;\n",
    "            if left.val == right.val:\n",
    "                stackl.append(left.eft)\n",
    "                stackl.append(left.right)\n",
    "                stackr.append(right.right)\n",
    "                stackr.append(right.left)\n",
    "            else:\n",
    "                return False\n",
    "        return len(stackl) == 0 and len(stackr) == 0"
   ]
  },
  {
   "cell_type": "code",
   "execution_count": null,
   "metadata": {},
   "outputs": [],
   "source": [
    "'''\n",
    "思路三：非递归算法实现。BFS\n",
    "'''\n",
    "class Solution(object):\n",
    "    def isSymmetric(self, root):\n",
    "        \"\"\"\n",
    "        :type root: TreeNode\n",
    "        :rtype: bool\n",
    "        \"\"\"\n",
    "        if not root:\n",
    "            return True\n",
    "        queuel, queuer = [root.left], [root.right]\n",
    "        while len(queuel) > 0 and len(queuer) > 0:\n",
    "            left = queuel.pop()\n",
    "            right = queuer.pop()\n",
    "            if not left and not right:\n",
    "                continue\n",
    "            elif not left or not right:\n",
    "                return False\n",
    "            if left.val != right.val:\n",
    "                return False\n",
    "            queuel.insert(0, left.left)\n",
    "            queuel.insert(0, left.right)\n",
    "            queuer.insert(0, right.right)\n",
    "            queuer.insert(0, right.left)\n",
    "        return len(queuel) == 0 and len(queuer) == 0"
   ]
  },
  {
   "cell_type": "code",
   "execution_count": 2,
   "metadata": {},
   "outputs": [
    {
     "name": "stdout",
     "output_type": "stream",
     "text": [
      "['test', 9, 2]\n"
     ]
    }
   ],
   "source": [
    "queue = [2]\n",
    "queue.insert(0,9)\n",
    "queue.insert(0, 'test')\n",
    "print(queue)"
   ]
  },
  {
   "cell_type": "code",
   "execution_count": null,
   "metadata": {},
   "outputs": [],
   "source": [
    "queue.insert(0,插入字段) # 插入队列的第一位 "
   ]
  }
 ],
 "metadata": {
  "kernelspec": {
   "display_name": "Python 3",
   "language": "python",
   "name": "python3"
  },
  "language_info": {
   "codemirror_mode": {
    "name": "ipython",
    "version": 3
   },
   "file_extension": ".py",
   "mimetype": "text/x-python",
   "name": "python",
   "nbconvert_exporter": "python",
   "pygments_lexer": "ipython3",
   "version": "3.6.4"
  }
 },
 "nbformat": 4,
 "nbformat_minor": 2
}
