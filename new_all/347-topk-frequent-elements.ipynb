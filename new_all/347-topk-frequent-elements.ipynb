{
 "cells": [
  {
   "cell_type": "markdown",
   "metadata": {},
   "source": [
    "### [leetcode]题解（python）：347-Top K Frequent Elements"
   ]
  },
  {
   "cell_type": "markdown",
   "metadata": {},
   "source": [
    "### 题目来源：\n",
    "https://leetcode.com/problems/top-k-frequent-elements/"
   ]
  },
  {
   "cell_type": "markdown",
   "metadata": {},
   "source": [
    "### 题意：\n",
    "出现频率最高的k个数。\n",
    "\n",
    "This step takes mathcal{O}(N)O(N) time where N is number of elements in the list.\n",
    "\n",
    "The second step is to build a heap. The time complexity of adding an element in a heap is mathcal{O}(log(k)) and we do it N times that means mathcal{O}(Nlog(k))time complexity for this step.\n",
    "\n",
    "The last step to build an output list has mathcal{O}(klog(k))time complexity."
   ]
  },
  {
   "cell_type": "markdown",
   "metadata": {},
   "source": [
    "### 代码python："
   ]
  },
  {
   "cell_type": "code",
   "execution_count": 1,
   "metadata": {},
   "outputs": [],
   "source": [
    "from heapq import *\n",
    "class Solution(object):\n",
    "    def topKFrequent(self, nums, k):\n",
    "        \"\"\"\n",
    "        :type nums: List[int]\n",
    "        :type k: int\n",
    "        :rtype: List[int]\n",
    "        \"\"\"\n",
    "        # 第一步数据字典获取数字出现频率 O(N)\n",
    "        dicts = {}\n",
    "        for num in nums:\n",
    "            if num not in dicts:\n",
    "                dicts[num] = 1\n",
    "            else:\n",
    "                dicts[num] += 1\n",
    "        # 第二步构建k的小根堆，剩余的n-k个元素替换重构小根堆 O(Nlogk)\n",
    "        heaps = list()\n",
    "        for key, val in dicts.items():\n",
    "            if len(heaps) < k:\n",
    "                heappush(heaps,(val, key))\n",
    "            else:\n",
    "                if val > heaps[0][0]:\n",
    "                    heapreplace(heaps,(val, key))\n",
    "        # 第三步push出小根堆中的前k个元素 O(k*logk)\n",
    "        res = []\n",
    "        for i in range(k):\n",
    "            res.append(heappop(heaps)[1])\n",
    "        return res\n",
    "        "
   ]
  },
  {
   "cell_type": "code",
   "execution_count": null,
   "metadata": {},
   "outputs": [],
   "source": []
  },
  {
   "cell_type": "code",
   "execution_count": null,
   "metadata": {},
   "outputs": [],
   "source": []
  }
 ],
 "metadata": {
  "kernelspec": {
   "display_name": "Python 3",
   "language": "python",
   "name": "python3"
  },
  "language_info": {
   "codemirror_mode": {
    "name": "ipython",
    "version": 3
   },
   "file_extension": ".py",
   "mimetype": "text/x-python",
   "name": "python",
   "nbconvert_exporter": "python",
   "pygments_lexer": "ipython3",
   "version": "3.6.4"
  }
 },
 "nbformat": 4,
 "nbformat_minor": 2
}
