{
 "cells": [
  {
   "cell_type": "markdown",
   "metadata": {},
   "source": [
    "### [LeetCode]题解（python）：088-Merge Sorted Array"
   ]
  },
  {
   "cell_type": "markdown",
   "metadata": {},
   "source": [
    "### 题目来源：\n",
    "https://leetcode.com/problems/merge-sorted-array/"
   ]
  },
  {
   "cell_type": "markdown",
   "metadata": {},
   "source": [
    "### 题意分析：\n",
    "给定两个有序整数数组nums1和nums2，将nums2合并到nums1中得到一个有序数组。 \n",
    "注意：假定nums1有足够的空间（其大小大于等于m+n）来存放nums2的元素。nums1和nums2初始时分别有m和n个元素。"
   ]
  },
  {
   "cell_type": "markdown",
   "metadata": {},
   "source": [
    "### 解题思路：\n",
    "使用三个指针从后向前遍历，只需对第二个数组的没有遍历完进行特殊处理，如果是第一个没有遍历完，其实已经默认在相应位置"
   ]
  },
  {
   "cell_type": "markdown",
   "metadata": {},
   "source": [
    "### 代码python："
   ]
  },
  {
   "cell_type": "code",
   "execution_count": null,
   "metadata": {},
   "outputs": [],
   "source": [
    "    def merge(self, nums1, m, nums2, n):\n",
    "        \"\"\"\n",
    "        :type nums1: List[int]\n",
    "        :type m: int\n",
    "        :type nums2: List[int]\n",
    "        :type n: int\n",
    "        :rtype: void Do not return anything, modify nums1 in-place instead.\n",
    "        \"\"\"\n",
    "        end = m + n -1\n",
    "        m -= 1\n",
    "        n -= 1\n",
    "        while end >= 0 and m >=0 and n >= 0:\n",
    "            if nums1[m] > nums2[n]:\n",
    "                nums1[end] = nums1[m]\n",
    "                m -= 1\n",
    "            else:\n",
    "                nums1[end] = nums2[n]\n",
    "                n -= 1\n",
    "            end -= 1\n",
    "        while n >= 0:\n",
    "            nums1[end] = nums2[n]\n",
    "            n -= 1\n",
    "            end -= 1"
   ]
  }
 ],
 "metadata": {
  "kernelspec": {
   "display_name": "Python 3",
   "language": "python",
   "name": "python3"
  },
  "language_info": {
   "codemirror_mode": {
    "name": "ipython",
    "version": 3
   },
   "file_extension": ".py",
   "mimetype": "text/x-python",
   "name": "python",
   "nbconvert_exporter": "python",
   "pygments_lexer": "ipython3",
   "version": "3.6.4"
  }
 },
 "nbformat": 4,
 "nbformat_minor": 2
}
